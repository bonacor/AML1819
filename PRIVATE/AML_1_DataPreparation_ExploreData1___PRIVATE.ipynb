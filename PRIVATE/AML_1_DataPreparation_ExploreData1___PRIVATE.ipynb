{
 "cells": [
  {
   "cell_type": "markdown",
   "metadata": {},
   "source": [
    "# Explore your data with descriptive statistics"
   ]
  },
  {
   "cell_type": "markdown",
   "metadata": {},
   "source": [
    "***The time spent in understanding your data (BEFORE APPLYING ANY ML TECHNIQUES) is time well spent***. \n",
    "\n",
    "Suggestions and guidelines may differ, but here is what we will use as a checklist:\n",
    "\n",
    "1. ***Take a peek*** at your ***raw*** dataset\n",
    "1. Review the ***dimensions*** of your dataset\n",
    "1. Review the ***data types*** of the attributes in your dataset\n",
    "1. Summarize your data using ***descriptive statistics***\n",
    "1. Summarize the ***distribution of instances across classes*** in your dataset\n",
    "1. Understand the relationships in your data using ***correlations***\n",
    "1. Review the ***skew*** of the distributions of each attribute"
   ]
  },
  {
   "cell_type": "code",
   "execution_count": 1,
   "metadata": {
    "collapsed": true
   },
   "outputs": [],
   "source": [
    "import csv\n",
    "import numpy as np"
   ]
  },
  {
   "cell_type": "markdown",
   "metadata": {},
   "source": [
    "## 1. Peek at the raw data"
   ]
  },
  {
   "cell_type": "markdown",
   "metadata": {},
   "source": [
    "There is no substitute for this phase: looking at the raw data can reveal insights that you may not be able to get in any other way. This phase also helps to plant seeds that may later grow into ideas on how to better pre-process and handle your data for ML tasks. \n",
    "\n",
    "Just review the first few rows of your data, either quickly like this..."
   ]
  },
  {
   "cell_type": "code",
   "execution_count": 2,
   "metadata": {
    "collapsed": false
   },
   "outputs": [
    {
     "name": "stdout",
     "output_type": "stream",
     "text": [
      "6,148,72,35,0,33.6,0.627,50,1\r\n",
      "1,85,66,29,0,26.6,0.351,31,0\r\n",
      "8,183,64,0,0,23.3,0.672,32,1\r\n",
      "1,89,66,23,94,28.1,0.167,21,0\r\n",
      "0,137,40,35,168,43.1,2.288,33,1\r\n",
      "5,116,74,0,0,25.6,0.201,30,0\r\n",
      "3,78,50,32,88,31.0,0.248,26,1\r\n",
      "10,115,0,0,0,35.3,0.134,29,0\r\n",
      "2,197,70,45,543,30.5,0.158,53,1\r\n",
      "8,125,96,0,0,0.0,0.232,54,1\r\n",
      "4,110,92,0,0,37.6,0.191,30,0\r\n",
      "10,168,74,0,0,38.0,0.537,34,1\r\n",
      "10,139,80,0,0,27.1,1.441,57,0\r\n",
      "1,189,60,23,846,30.1,0.398,59,1\r\n",
      "5,166,72,19,175,25.8,0.587,51,1\r\n",
      "7,100,0,0,0,30.0,0.484,32,1\r\n",
      "0,118,84,47,230,45.8,0.551,31,1\r\n",
      "7,107,74,0,0,29.6,0.254,31,1\r\n",
      "1,103,30,38,83,43.3,0.183,33,0\r\n",
      "1,115,70,30,96,34.6,0.529,32,1\r\n"
     ]
    }
   ],
   "source": [
    "!head -20 pima-indians-diabetes.data.csv"
   ]
  },
  {
   "cell_type": "markdown",
   "metadata": {},
   "source": [
    ".. or, in Python, using the `head()` function on the Pandas DataFrame."
   ]
  },
  {
   "cell_type": "code",
   "execution_count": 3,
   "metadata": {
    "collapsed": true
   },
   "outputs": [],
   "source": [
    "from pandas import read_csv"
   ]
  },
  {
   "cell_type": "code",
   "execution_count": 4,
   "metadata": {
    "collapsed": false
   },
   "outputs": [
    {
     "data": {
      "text/html": [
       "<div>\n",
       "<table border=\"1\" class=\"dataframe\">\n",
       "  <thead>\n",
       "    <tr style=\"text-align: right;\">\n",
       "      <th></th>\n",
       "      <th>preg</th>\n",
       "      <th>plas</th>\n",
       "      <th>pres</th>\n",
       "      <th>skin</th>\n",
       "      <th>test</th>\n",
       "      <th>mass</th>\n",
       "      <th>pedi</th>\n",
       "      <th>age</th>\n",
       "      <th>class</th>\n",
       "    </tr>\n",
       "  </thead>\n",
       "  <tbody>\n",
       "    <tr>\n",
       "      <th>0</th>\n",
       "      <td>6</td>\n",
       "      <td>148</td>\n",
       "      <td>72</td>\n",
       "      <td>35</td>\n",
       "      <td>0</td>\n",
       "      <td>33.6</td>\n",
       "      <td>0.627</td>\n",
       "      <td>50</td>\n",
       "      <td>1</td>\n",
       "    </tr>\n",
       "    <tr>\n",
       "      <th>1</th>\n",
       "      <td>1</td>\n",
       "      <td>85</td>\n",
       "      <td>66</td>\n",
       "      <td>29</td>\n",
       "      <td>0</td>\n",
       "      <td>26.6</td>\n",
       "      <td>0.351</td>\n",
       "      <td>31</td>\n",
       "      <td>0</td>\n",
       "    </tr>\n",
       "    <tr>\n",
       "      <th>2</th>\n",
       "      <td>8</td>\n",
       "      <td>183</td>\n",
       "      <td>64</td>\n",
       "      <td>0</td>\n",
       "      <td>0</td>\n",
       "      <td>23.3</td>\n",
       "      <td>0.672</td>\n",
       "      <td>32</td>\n",
       "      <td>1</td>\n",
       "    </tr>\n",
       "    <tr>\n",
       "      <th>3</th>\n",
       "      <td>1</td>\n",
       "      <td>89</td>\n",
       "      <td>66</td>\n",
       "      <td>23</td>\n",
       "      <td>94</td>\n",
       "      <td>28.1</td>\n",
       "      <td>0.167</td>\n",
       "      <td>21</td>\n",
       "      <td>0</td>\n",
       "    </tr>\n",
       "    <tr>\n",
       "      <th>4</th>\n",
       "      <td>0</td>\n",
       "      <td>137</td>\n",
       "      <td>40</td>\n",
       "      <td>35</td>\n",
       "      <td>168</td>\n",
       "      <td>43.1</td>\n",
       "      <td>2.288</td>\n",
       "      <td>33</td>\n",
       "      <td>1</td>\n",
       "    </tr>\n",
       "    <tr>\n",
       "      <th>5</th>\n",
       "      <td>5</td>\n",
       "      <td>116</td>\n",
       "      <td>74</td>\n",
       "      <td>0</td>\n",
       "      <td>0</td>\n",
       "      <td>25.6</td>\n",
       "      <td>0.201</td>\n",
       "      <td>30</td>\n",
       "      <td>0</td>\n",
       "    </tr>\n",
       "    <tr>\n",
       "      <th>6</th>\n",
       "      <td>3</td>\n",
       "      <td>78</td>\n",
       "      <td>50</td>\n",
       "      <td>32</td>\n",
       "      <td>88</td>\n",
       "      <td>31.0</td>\n",
       "      <td>0.248</td>\n",
       "      <td>26</td>\n",
       "      <td>1</td>\n",
       "    </tr>\n",
       "    <tr>\n",
       "      <th>7</th>\n",
       "      <td>10</td>\n",
       "      <td>115</td>\n",
       "      <td>0</td>\n",
       "      <td>0</td>\n",
       "      <td>0</td>\n",
       "      <td>35.3</td>\n",
       "      <td>0.134</td>\n",
       "      <td>29</td>\n",
       "      <td>0</td>\n",
       "    </tr>\n",
       "    <tr>\n",
       "      <th>8</th>\n",
       "      <td>2</td>\n",
       "      <td>197</td>\n",
       "      <td>70</td>\n",
       "      <td>45</td>\n",
       "      <td>543</td>\n",
       "      <td>30.5</td>\n",
       "      <td>0.158</td>\n",
       "      <td>53</td>\n",
       "      <td>1</td>\n",
       "    </tr>\n",
       "    <tr>\n",
       "      <th>9</th>\n",
       "      <td>8</td>\n",
       "      <td>125</td>\n",
       "      <td>96</td>\n",
       "      <td>0</td>\n",
       "      <td>0</td>\n",
       "      <td>0.0</td>\n",
       "      <td>0.232</td>\n",
       "      <td>54</td>\n",
       "      <td>1</td>\n",
       "    </tr>\n",
       "    <tr>\n",
       "      <th>10</th>\n",
       "      <td>4</td>\n",
       "      <td>110</td>\n",
       "      <td>92</td>\n",
       "      <td>0</td>\n",
       "      <td>0</td>\n",
       "      <td>37.6</td>\n",
       "      <td>0.191</td>\n",
       "      <td>30</td>\n",
       "      <td>0</td>\n",
       "    </tr>\n",
       "    <tr>\n",
       "      <th>11</th>\n",
       "      <td>10</td>\n",
       "      <td>168</td>\n",
       "      <td>74</td>\n",
       "      <td>0</td>\n",
       "      <td>0</td>\n",
       "      <td>38.0</td>\n",
       "      <td>0.537</td>\n",
       "      <td>34</td>\n",
       "      <td>1</td>\n",
       "    </tr>\n",
       "    <tr>\n",
       "      <th>12</th>\n",
       "      <td>10</td>\n",
       "      <td>139</td>\n",
       "      <td>80</td>\n",
       "      <td>0</td>\n",
       "      <td>0</td>\n",
       "      <td>27.1</td>\n",
       "      <td>1.441</td>\n",
       "      <td>57</td>\n",
       "      <td>0</td>\n",
       "    </tr>\n",
       "    <tr>\n",
       "      <th>13</th>\n",
       "      <td>1</td>\n",
       "      <td>189</td>\n",
       "      <td>60</td>\n",
       "      <td>23</td>\n",
       "      <td>846</td>\n",
       "      <td>30.1</td>\n",
       "      <td>0.398</td>\n",
       "      <td>59</td>\n",
       "      <td>1</td>\n",
       "    </tr>\n",
       "    <tr>\n",
       "      <th>14</th>\n",
       "      <td>5</td>\n",
       "      <td>166</td>\n",
       "      <td>72</td>\n",
       "      <td>19</td>\n",
       "      <td>175</td>\n",
       "      <td>25.8</td>\n",
       "      <td>0.587</td>\n",
       "      <td>51</td>\n",
       "      <td>1</td>\n",
       "    </tr>\n",
       "    <tr>\n",
       "      <th>15</th>\n",
       "      <td>7</td>\n",
       "      <td>100</td>\n",
       "      <td>0</td>\n",
       "      <td>0</td>\n",
       "      <td>0</td>\n",
       "      <td>30.0</td>\n",
       "      <td>0.484</td>\n",
       "      <td>32</td>\n",
       "      <td>1</td>\n",
       "    </tr>\n",
       "    <tr>\n",
       "      <th>16</th>\n",
       "      <td>0</td>\n",
       "      <td>118</td>\n",
       "      <td>84</td>\n",
       "      <td>47</td>\n",
       "      <td>230</td>\n",
       "      <td>45.8</td>\n",
       "      <td>0.551</td>\n",
       "      <td>31</td>\n",
       "      <td>1</td>\n",
       "    </tr>\n",
       "    <tr>\n",
       "      <th>17</th>\n",
       "      <td>7</td>\n",
       "      <td>107</td>\n",
       "      <td>74</td>\n",
       "      <td>0</td>\n",
       "      <td>0</td>\n",
       "      <td>29.6</td>\n",
       "      <td>0.254</td>\n",
       "      <td>31</td>\n",
       "      <td>1</td>\n",
       "    </tr>\n",
       "    <tr>\n",
       "      <th>18</th>\n",
       "      <td>1</td>\n",
       "      <td>103</td>\n",
       "      <td>30</td>\n",
       "      <td>38</td>\n",
       "      <td>83</td>\n",
       "      <td>43.3</td>\n",
       "      <td>0.183</td>\n",
       "      <td>33</td>\n",
       "      <td>0</td>\n",
       "    </tr>\n",
       "    <tr>\n",
       "      <th>19</th>\n",
       "      <td>1</td>\n",
       "      <td>115</td>\n",
       "      <td>70</td>\n",
       "      <td>30</td>\n",
       "      <td>96</td>\n",
       "      <td>34.6</td>\n",
       "      <td>0.529</td>\n",
       "      <td>32</td>\n",
       "      <td>1</td>\n",
       "    </tr>\n",
       "  </tbody>\n",
       "</table>\n",
       "</div>"
      ],
      "text/plain": [
       "    preg  plas  pres  skin  test  mass   pedi  age  class\n",
       "0      6   148    72    35     0  33.6  0.627   50      1\n",
       "1      1    85    66    29     0  26.6  0.351   31      0\n",
       "2      8   183    64     0     0  23.3  0.672   32      1\n",
       "3      1    89    66    23    94  28.1  0.167   21      0\n",
       "4      0   137    40    35   168  43.1  2.288   33      1\n",
       "5      5   116    74     0     0  25.6  0.201   30      0\n",
       "6      3    78    50    32    88  31.0  0.248   26      1\n",
       "7     10   115     0     0     0  35.3  0.134   29      0\n",
       "8      2   197    70    45   543  30.5  0.158   53      1\n",
       "9      8   125    96     0     0   0.0  0.232   54      1\n",
       "10     4   110    92     0     0  37.6  0.191   30      0\n",
       "11    10   168    74     0     0  38.0  0.537   34      1\n",
       "12    10   139    80     0     0  27.1  1.441   57      0\n",
       "13     1   189    60    23   846  30.1  0.398   59      1\n",
       "14     5   166    72    19   175  25.8  0.587   51      1\n",
       "15     7   100     0     0     0  30.0  0.484   32      1\n",
       "16     0   118    84    47   230  45.8  0.551   31      1\n",
       "17     7   107    74     0     0  29.6  0.254   31      1\n",
       "18     1   103    30    38    83  43.3  0.183   33      0\n",
       "19     1   115    70    30    96  34.6  0.529   32      1"
      ]
     },
     "execution_count": 4,
     "metadata": {},
     "output_type": "execute_result"
    }
   ],
   "source": [
    "filename = \"pima-indians-diabetes.data.csv\"\n",
    "names = ['preg', 'plas', 'pres', 'skin', 'test', 'mass', 'pedi', 'age', 'class']\n",
    "data = read_csv(filename, names=names)\n",
    "peek = data.head(20)\n",
    "peek"
   ]
  },
  {
   "cell_type": "markdown",
   "metadata": {},
   "source": [
    "The second approach is just much better: it shows attributes' names, and displays data in a more readable format. This is coming for free from loading your data as a Pandas DataFrame. The first column lists the row number, which is very handy for referencing a specific observation."
   ]
  },
  {
   "cell_type": "markdown",
   "metadata": {},
   "source": [
    "But WHAT is your data? Do you understand the columns?\n",
    "\n",
    "Of course if it is your data related to your problem which you are using ML on, you know everything. If you take a dataset online, or you are given one, you need to familiarize with it. For this example, some details can be found e.g. at https://www.kaggle.com/uciml/pima-indians-diabetes-database/data, and are summarized below:\n",
    "\n",
    "    Pregnancies = Number of times pregnant\n",
    "    Glucose = Plasma glucose concentration a 2 hours in an oral glucose tolerance test numeric\n",
    "    BloodPressure = Diastolic blood pressure (mm Hg)\n",
    "    SkinThickness = Triceps skin fold thickness (mm)\n",
    "    Insulin = 2-Hour serum insulin (mu U/ml)\n",
    "    BMI = Body mass index (weight in kg/(height in m)^2)\n",
    "    DiabetesPedigreeFunction = Diabetes pedigree function\n",
    "    Age = Age (years)\n",
    "    Outcome = Class variable (0 or 1)"
   ]
  },
  {
   "cell_type": "markdown",
   "metadata": {},
   "source": [
    "## 2. Dimensions of your data"
   ]
  },
  {
   "cell_type": "markdown",
   "metadata": {},
   "source": [
    "In the previous part you have had a glance to \"some\" data.. out of how much? How much data do you have? How many rows? How many columns (i.e. features)? \n",
    "\n",
    "You need to know because this has implications:\n",
    "\n",
    "* Too many rows? your ML algo may take too long to train.\n",
    "* Too few rows? perhaps you do not have enough data to train the algorithms at all.\n",
    "* Too many features? some algorithms can be distracted or suffer poor performance due to the curse of dimensionality. \n",
    "* Too few features? you go nowhere.\n",
    "\n",
    "You had better review right away the size and shape of your dataset, by printing the shape property using the Pandas DataFrame functionalities. Easy because of this!"
   ]
  },
  {
   "cell_type": "code",
   "execution_count": 5,
   "metadata": {
    "collapsed": false
   },
   "outputs": [
    {
     "data": {
      "text/plain": [
       "(768, 9)"
      ]
     },
     "execution_count": 5,
     "metadata": {},
     "output_type": "execute_result"
    }
   ],
   "source": [
    "shape = data.shape\n",
    "shape"
   ]
  },
  {
   "cell_type": "markdown",
   "metadata": {},
   "source": [
    "The results are listed as (rows,columns). You can see that the dataset has 768 rows and\n",
    "9 columns. This will drive some of your future choices."
   ]
  },
  {
   "cell_type": "markdown",
   "metadata": {},
   "source": [
    "## 3. Data type for each attribute"
   ]
  },
  {
   "cell_type": "markdown",
   "metadata": {},
   "source": [
    "The type of each attribute is important to know, as this can easily be the nightmare of data preparation. E.g. strings may need to be converted to floating point values or integers, to represent categorical or ordinal values. Of course, you can get an idea of the types of attributes already by peeking at the raw data, as done above. But it is usually suggested to list the data types of each attribute by using the Pandas DataFrame, i.e. explicitly characterize each attribute using the `dtypes` property."
   ]
  },
  {
   "cell_type": "code",
   "execution_count": 6,
   "metadata": {
    "collapsed": false
   },
   "outputs": [
    {
     "name": "stdout",
     "output_type": "stream",
     "text": [
      "preg       int64\n",
      "plas       int64\n",
      "pres       int64\n",
      "skin       int64\n",
      "test       int64\n",
      "mass     float64\n",
      "pedi     float64\n",
      "age        int64\n",
      "class      int64\n",
      "dtype: object\n"
     ]
    }
   ],
   "source": [
    "types = data.dtypes\n",
    "print(types)"
   ]
  },
  {
   "cell_type": "markdown",
   "metadata": {},
   "source": [
    "Most of the attributes are integers. \"mass\" and \"pedi\" are floating point types. All of them are numbers, anyway."
   ]
  },
  {
   "cell_type": "markdown",
   "metadata": {},
   "source": [
    "## 4. Descriptive statistics"
   ]
  },
  {
   "cell_type": "markdown",
   "metadata": {},
   "source": [
    "Descriptive statistics can give you good insight into the shape of each attribute. You need nothing too complicated at this stage, and note that often you may create with just one command more statistical summaries than you have time to review. Use the `describe()` function on the Pandas DataFrame to list 8 major statistical properties of each attribute:\n",
    "* Count\n",
    "* Mean\n",
    "* Standard Deviation\n",
    "* Minimum Value\n",
    "* 25th Percentile\n",
    "* 50th Percentile (Median)\n",
    "* 75th Percentile\n",
    "* Maximum Value"
   ]
  },
  {
   "cell_type": "code",
   "execution_count": 7,
   "metadata": {
    "collapsed": false
   },
   "outputs": [],
   "source": [
    "from pandas import set_option"
   ]
  },
  {
   "cell_type": "code",
   "execution_count": 10,
   "metadata": {
    "collapsed": false
   },
   "outputs": [
    {
     "name": "stdout",
     "output_type": "stream",
     "text": [
      "          preg     plas     pres     skin     test     mass     pedi      age    class\n",
      "count  768.000  768.000  768.000  768.000  768.000  768.000  768.000  768.000  768.000\n",
      "mean     3.845  120.895   69.105   20.536   79.799   31.993    0.472   33.241    0.349\n",
      "std      3.370   31.973   19.356   15.952  115.244    7.884    0.331   11.760    0.477\n",
      "min      0.000    0.000    0.000    0.000    0.000    0.000    0.078   21.000    0.000\n",
      "25%      1.000   99.000   62.000    0.000    0.000   27.300    0.244   24.000    0.000\n",
      "50%      3.000  117.000   72.000   23.000   30.500   32.000    0.372   29.000    0.000\n",
      "75%      6.000  140.250   80.000   32.000  127.250   36.600    0.626   41.000    1.000\n",
      "max     17.000  199.000  122.000   99.000  846.000   67.100    2.420   81.000    1.000\n"
     ]
    }
   ],
   "source": [
    "set_option('display.width', 100)        # set the preferred width of the output\n",
    "set_option('precision', 3)              # set the numbers precision\n",
    "description = data.describe()\n",
    "print(description)"
   ]
  },
  {
   "cell_type": "markdown",
   "metadata": {},
   "source": [
    "When describing the datasat in this way, it is worth taking some time and reviewing what you see, and draw observations from the outcome of this piece of code. This might include the presence of NaN values for missing data or surprising distributions for some attributes, so be careful in this step!\n",
    "\n",
    "Some obvious tips (without thinking much):\n",
    "* is `count` the same for all attributes, or not?\n",
    "* do you see any unexpectedly big std deviation for some attribute?\n",
    "* ...\n",
    "\n",
    "Some obvious tips (thinking a bit):\n",
    "* given what you think a feature means, do they average makes sense?\n",
    "* ..."
   ]
  },
  {
   "cell_type": "markdown",
   "metadata": {},
   "source": [
    "## 5. Class distribution \n",
    "(only for classification problems)"
   ]
  },
  {
   "cell_type": "markdown",
   "metadata": {},
   "source": [
    "On classification problems, you need to know how balanced the class (0/1) values are. Highly imbalanced problems (a lot more observations for one class than another) are common and may need special handling in the data preparation stage of your project. \n",
    "\n",
    "You can quickly get an idea of the distribution of the class attribute in Pandas, by checking how many 0s and how many 1s you have."
   ]
  },
  {
   "cell_type": "code",
   "execution_count": 11,
   "metadata": {
    "collapsed": false
   },
   "outputs": [
    {
     "name": "stdout",
     "output_type": "stream",
     "text": [
      "class\n",
      "0    500\n",
      "1    268\n",
      "dtype: int64\n"
     ]
    }
   ],
   "source": [
    "class_counts = data.groupby('class').size()\n",
    "print(class_counts)"
   ]
  },
  {
   "cell_type": "markdown",
   "metadata": {},
   "source": [
    "There are nearly double the number of observations with class 0 (no onset of diabetes) than there are with class 1 (onset of diabetes)."
   ]
  },
  {
   "cell_type": "markdown",
   "metadata": {},
   "source": [
    "## 6. Correlations between attributes"
   ]
  },
  {
   "cell_type": "markdown",
   "metadata": {},
   "source": [
    "Correlations here means any relationship between two features and how they may or may not change together. \n",
    "\n",
    "The most common method for calculating correlation is ***Pearson’s Correlation Coefficient***, that assumes a normal distribution of the attributes involved: a correlation of (-1,1,0) shows a full negative, full positive, or no correlation respectively. \n",
    "\n",
    "Some ML algorithms - like linear and logistic regression - can suffer poor performance if there are highly-correlated features in the dataset. So, it is a good idea to review all of the pairwise correlations of the features in your dataset at an early stage.\n",
    "\n",
    "You can use the `corr()` function on the Pandas DataFrame to calculate a correlation matrix."
   ]
  },
  {
   "cell_type": "code",
   "execution_count": 13,
   "metadata": {
    "collapsed": false
   },
   "outputs": [
    {
     "data": {
      "text/html": [
       "<div>\n",
       "<table border=\"1\" class=\"dataframe\">\n",
       "  <thead>\n",
       "    <tr style=\"text-align: right;\">\n",
       "      <th></th>\n",
       "      <th>preg</th>\n",
       "      <th>plas</th>\n",
       "      <th>pres</th>\n",
       "      <th>skin</th>\n",
       "      <th>test</th>\n",
       "      <th>mass</th>\n",
       "      <th>pedi</th>\n",
       "      <th>age</th>\n",
       "      <th>class</th>\n",
       "    </tr>\n",
       "  </thead>\n",
       "  <tbody>\n",
       "    <tr>\n",
       "      <th>preg</th>\n",
       "      <td>1.000</td>\n",
       "      <td>0.129</td>\n",
       "      <td>0.141</td>\n",
       "      <td>-0.082</td>\n",
       "      <td>-0.074</td>\n",
       "      <td>0.018</td>\n",
       "      <td>-0.034</td>\n",
       "      <td>0.544</td>\n",
       "      <td>0.222</td>\n",
       "    </tr>\n",
       "    <tr>\n",
       "      <th>plas</th>\n",
       "      <td>0.129</td>\n",
       "      <td>1.000</td>\n",
       "      <td>0.153</td>\n",
       "      <td>0.057</td>\n",
       "      <td>0.331</td>\n",
       "      <td>0.221</td>\n",
       "      <td>0.137</td>\n",
       "      <td>0.264</td>\n",
       "      <td>0.467</td>\n",
       "    </tr>\n",
       "    <tr>\n",
       "      <th>pres</th>\n",
       "      <td>0.141</td>\n",
       "      <td>0.153</td>\n",
       "      <td>1.000</td>\n",
       "      <td>0.207</td>\n",
       "      <td>0.089</td>\n",
       "      <td>0.282</td>\n",
       "      <td>0.041</td>\n",
       "      <td>0.240</td>\n",
       "      <td>0.065</td>\n",
       "    </tr>\n",
       "    <tr>\n",
       "      <th>skin</th>\n",
       "      <td>-0.082</td>\n",
       "      <td>0.057</td>\n",
       "      <td>0.207</td>\n",
       "      <td>1.000</td>\n",
       "      <td>0.437</td>\n",
       "      <td>0.393</td>\n",
       "      <td>0.184</td>\n",
       "      <td>-0.114</td>\n",
       "      <td>0.075</td>\n",
       "    </tr>\n",
       "    <tr>\n",
       "      <th>test</th>\n",
       "      <td>-0.074</td>\n",
       "      <td>0.331</td>\n",
       "      <td>0.089</td>\n",
       "      <td>0.437</td>\n",
       "      <td>1.000</td>\n",
       "      <td>0.198</td>\n",
       "      <td>0.185</td>\n",
       "      <td>-0.042</td>\n",
       "      <td>0.131</td>\n",
       "    </tr>\n",
       "    <tr>\n",
       "      <th>mass</th>\n",
       "      <td>0.018</td>\n",
       "      <td>0.221</td>\n",
       "      <td>0.282</td>\n",
       "      <td>0.393</td>\n",
       "      <td>0.198</td>\n",
       "      <td>1.000</td>\n",
       "      <td>0.141</td>\n",
       "      <td>0.036</td>\n",
       "      <td>0.293</td>\n",
       "    </tr>\n",
       "    <tr>\n",
       "      <th>pedi</th>\n",
       "      <td>-0.034</td>\n",
       "      <td>0.137</td>\n",
       "      <td>0.041</td>\n",
       "      <td>0.184</td>\n",
       "      <td>0.185</td>\n",
       "      <td>0.141</td>\n",
       "      <td>1.000</td>\n",
       "      <td>0.034</td>\n",
       "      <td>0.174</td>\n",
       "    </tr>\n",
       "    <tr>\n",
       "      <th>age</th>\n",
       "      <td>0.544</td>\n",
       "      <td>0.264</td>\n",
       "      <td>0.240</td>\n",
       "      <td>-0.114</td>\n",
       "      <td>-0.042</td>\n",
       "      <td>0.036</td>\n",
       "      <td>0.034</td>\n",
       "      <td>1.000</td>\n",
       "      <td>0.238</td>\n",
       "    </tr>\n",
       "    <tr>\n",
       "      <th>class</th>\n",
       "      <td>0.222</td>\n",
       "      <td>0.467</td>\n",
       "      <td>0.065</td>\n",
       "      <td>0.075</td>\n",
       "      <td>0.131</td>\n",
       "      <td>0.293</td>\n",
       "      <td>0.174</td>\n",
       "      <td>0.238</td>\n",
       "      <td>1.000</td>\n",
       "    </tr>\n",
       "  </tbody>\n",
       "</table>\n",
       "</div>"
      ],
      "text/plain": [
       "        preg   plas   pres   skin   test   mass   pedi    age  class\n",
       "preg   1.000  0.129  0.141 -0.082 -0.074  0.018 -0.034  0.544  0.222\n",
       "plas   0.129  1.000  0.153  0.057  0.331  0.221  0.137  0.264  0.467\n",
       "pres   0.141  0.153  1.000  0.207  0.089  0.282  0.041  0.240  0.065\n",
       "skin  -0.082  0.057  0.207  1.000  0.437  0.393  0.184 -0.114  0.075\n",
       "test  -0.074  0.331  0.089  0.437  1.000  0.198  0.185 -0.042  0.131\n",
       "mass   0.018  0.221  0.282  0.393  0.198  1.000  0.141  0.036  0.293\n",
       "pedi  -0.034  0.137  0.041  0.184  0.185  0.141  1.000  0.034  0.174\n",
       "age    0.544  0.264  0.240 -0.114 -0.042  0.036  0.034  1.000  0.238\n",
       "class  0.222  0.467  0.065  0.075  0.131  0.293  0.174  0.238  1.000"
      ]
     },
     "execution_count": 13,
     "metadata": {},
     "output_type": "execute_result"
    }
   ],
   "source": [
    "set_option('display.width', 100)\n",
    "set_option('precision', 3)\n",
    "correlations = data.corr(method='pearson')\n",
    "correlations"
   ]
  },
  {
   "cell_type": "markdown",
   "metadata": {},
   "source": [
    "Note the outcome is a matrix that lists all attributes across the top and down the side, and gives correlation between all pairs of attributes (well, even twice: the matrix is symmetrical, so cut it along the diagonal and look only at one half). Needless to mention, the diagonal line through the matrix from the top left to bottom right corners of the matrix shows 1.000, i.e. perfect correlation of each attribute with itself."
   ]
  },
  {
   "cell_type": "markdown",
   "metadata": {},
   "source": [
    "## 7. Skew of Univariate Distributions"
   ]
  },
  {
   "cell_type": "markdown",
   "metadata": {},
   "source": [
    "Skew refers to a distribution that would be assumed Gaussian (normal or bell curve) but is actually shifted or squashed in one direction or another. Many ML algorithms assume a Gaussian distribution. Knowing that an attribute has a skew may allow you to perform proper data preparation to correct the skew and later improve the accuracy of your models. \n",
    "\n",
    "You can calculate the skew of each attribute using the `skew()` function on the Pandas DataFrame."
   ]
  },
  {
   "cell_type": "code",
   "execution_count": 14,
   "metadata": {
    "collapsed": false
   },
   "outputs": [
    {
     "name": "stdout",
     "output_type": "stream",
     "text": [
      "preg     0.902\n",
      "plas     0.174\n",
      "pres    -1.844\n",
      "skin     0.109\n",
      "test     2.272\n",
      "mass    -0.429\n",
      "pedi     1.920\n",
      "age      1.130\n",
      "class    0.635\n",
      "dtype: float64\n"
     ]
    }
   ],
   "source": [
    "skew = data.skew()\n",
    "print(skew)"
   ]
  },
  {
   "cell_type": "markdown",
   "metadata": {},
   "source": [
    "The skew result show a positive/negative skew in case the distribution is squashed right/left (respectively) w.r.t. a Gaussian bell shape. Values closer to zero show less skew."
   ]
  },
  {
   "cell_type": "markdown",
   "metadata": {},
   "source": [
    "## Summary"
   ]
  },
  {
   "cell_type": "markdown",
   "metadata": {},
   "source": [
    "What we did:\n",
    "\n",
    "* we familiarized with the concept of (at least, there might be more!) 7 quick ways to explore my dataset and try to describe and summarize it statistically, before we start working on our ML project.\n",
    "* we implemented these concepts by exploiting Pandas' functionalities: easy! Basically one command each!\n",
    "* remember to look carefully at the numbers, ask yourself questions as of whether things are as you see them, and note down evertything that comes to mind as it might well be useful at a later stage!"
   ]
  },
  {
   "cell_type": "markdown",
   "metadata": {
    "collapsed": true
   },
   "source": [
    "## What's next"
   ]
  },
  {
   "cell_type": "markdown",
   "metadata": {
    "collapsed": true
   },
   "source": [
    "We did what we did with numbers. ***Isn't it frustrating?*** Time to make it with visualizations!"
   ]
  }
 ],
 "metadata": {
  "kernelspec": {
   "display_name": "Python 2",
   "language": "python",
   "name": "python2"
  },
  "language_info": {
   "codemirror_mode": {
    "name": "ipython",
    "version": 2
   },
   "file_extension": ".py",
   "mimetype": "text/x-python",
   "name": "python",
   "nbconvert_exporter": "python",
   "pygments_lexer": "ipython2",
   "version": "2.7.13"
  }
 },
 "nbformat": 4,
 "nbformat_minor": 2
}
