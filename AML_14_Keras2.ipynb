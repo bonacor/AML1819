{
 "cells": [
  {
   "cell_type": "markdown",
   "metadata": {},
   "source": [
    "# A DL model with Keras"
   ]
  },
  {
   "cell_type": "markdown",
   "metadata": {},
   "source": [
    "In this notebook:\n",
    "* How to load a CSV dataset ready for use with Keras.\n",
    "* How to define and compile a Multilayer Perceptron model in Keras.   How to evaluate a Keras model on a validation dataset."
   ]
  },
  {
   "cell_type": "markdown",
   "metadata": {},
   "source": [
    "## The steps"
   ]
  },
  {
   "cell_type": "markdown",
   "metadata": {},
   "source": [
    "There is not a lot of code required, but we are going to step over it slowly so that you will know how to create your own models in the future. The steps you are going to cover in this tutorial are as follows:\n",
    "1. Load Data.\n",
    "2. Define Model.\n",
    "3. Compile Model.\n",
    "4. Fit Model.\n",
    "5. Evaluate Model.\n",
    "6. Tie It All Together."
   ]
  },
  {
   "cell_type": "markdown",
   "metadata": {
    "collapsed": true
   },
   "source": [
    "## The dataset"
   ]
  },
  {
   "cell_type": "markdown",
   "metadata": {
    "collapsed": true
   },
   "source": [
    "We will use the Pima Indians Onset of Diabetes Dataset.\n",
    "\n",
    "Given that all attributes are numerical, this makes it easy to use directly with NN that expect numerical inputs and output values, and ideal for our first NN in Keras. "
   ]
  },
  {
   "cell_type": "markdown",
   "metadata": {},
   "source": [
    "Now we can reveal how good you can get here!\n",
    "\n",
    "The baseline accuracy if all predictions are made as no onset of diabetes is 65.1%. Top results on the dataset are in the range of 77.7% accuracy using 10-fold cross-validation ([here](http://www.is.umk.pl/projects/datasets.html#Diabetes) - apologies, broken link now, will find a new one). "
   ]
  },
  {
   "cell_type": "markdown",
   "metadata": {},
   "source": [
    "## Load Data"
   ]
  },
  {
   "cell_type": "markdown",
   "metadata": {},
   "source": [
    "Whenever we work with machine learning algorithms that use a stochastic process (e.g. random numbers), it is a good idea to initialize the random number generator with a fixed seed value. This is so that you can run the same code again and again and get the same result. This is useful if you need to demonstrate a result, compare algorithms using the same source of randomness or to debug a part of your code. You can initialize the random number generator with any seed you like, for example:"
   ]
  },
  {
   "cell_type": "code",
   "execution_count": 1,
   "metadata": {},
   "outputs": [
    {
     "name": "stderr",
     "output_type": "stream",
     "text": [
      "Using TensorFlow backend.\n"
     ]
    }
   ],
   "source": [
    "from keras.models import Sequential\n",
    "from keras.layers import Dense\n",
    "import numpy\n",
    "# fix random seed for reproducibility\n",
    "numpy.random.seed(7)"
   ]
  },
  {
   "cell_type": "markdown",
   "metadata": {},
   "source": [
    "Now we can load our Pima Indians dataset. You can now load the file directly using the NumPy function `loadtxt()`. There are eight input variables and one output variable (the last column). Once loaded we can split the dataset into input variables (X) and the output class variable (Y )."
   ]
  },
  {
   "cell_type": "code",
   "execution_count": 2,
   "metadata": {},
   "outputs": [],
   "source": [
    "# load pima indians dataset\n",
    "dataset = numpy.loadtxt(\"pima-indians-diabetes.data.csv\", delimiter=\",\")\n",
    "# split into input and output variables\n",
    "X = dataset[:,0:8]\n",
    "Y = dataset[:,8]"
   ]
  },
  {
   "cell_type": "markdown",
   "metadata": {},
   "source": [
    "We are now ready to define our neural network model."
   ]
  },
  {
   "cell_type": "markdown",
   "metadata": {},
   "source": [
    "## Define Model"
   ]
  },
  {
   "cell_type": "markdown",
   "metadata": {},
   "source": [
    "Models in Keras are defined as a sequence of layers. **We create a Sequential model and add layers one at a time until we are happy with our network topology**. The first thing to get right is to ensure the input layer has the right number of inputs. This can be specified when creating the first layer with the input dim argument and setting it to 8 for the 8 input variables.\n",
    "\n",
    "**How do we know the number of layers to use and their types?** This is a very hard question. There are heuristics that we can use but most often the best network structure is found through a process of trial and error experimentation. Generally, _you need a network large enough to capture the structure of the problem_ if that helps at all. In this example we will use _a fully-connected network structure with three layers_.\n",
    "\n",
    "**Fully connected layers are defined using the Dense class**:\n",
    "* We can specify the number of neurons in the layer as the first argument\n",
    "* we can specify the activation function using the activation argument.\n",
    "* We will use the rectifier (relu) activation function on the first two layers and the sigmoid activation function in the output layer.\n",
    "* We use a sigmoid activation function on the output layer to ensure our network output is between 0 and 1 and easy to map to either a probability of class 1 or snap to a hard classification of either class with a default threshold of 0.5. \n",
    "\n",
    "Why relu? It used to be the case that sigmoid and tanh activation functions were preferred for all layers. These days, better performance is seen using the relu. \n",
    "\n",
    "We can piece it all together by adding each layer. The first hidden layer has 12 neurons and expects 8 input variables (e.g. input dim=8). The second hidden layer has 8 neurons and finally the output layer has 1 neuron to predict the class (onset of diabetes or not)."
   ]
  },
  {
   "cell_type": "code",
   "execution_count": 3,
   "metadata": {
    "scrolled": true
   },
   "outputs": [],
   "source": [
    "# create model\n",
    "model = Sequential()\n",
    "model.add(Dense(12, input_dim=8, activation='relu'))\n",
    "model.add(Dense(8, activation='relu'))\n",
    "model.add(Dense(1, activation='sigmoid'))"
   ]
  },
  {
   "cell_type": "code",
   "execution_count": 4,
   "metadata": {},
   "outputs": [
    {
     "data": {
      "text/plain": [
       "<keras.models.Sequential at 0x325719490>"
      ]
     },
     "execution_count": 4,
     "metadata": {},
     "output_type": "execute_result"
    }
   ],
   "source": [
    "model"
   ]
  },
  {
   "cell_type": "markdown",
   "metadata": {},
   "source": [
    "The figure below provides a depiction of the network structure."
   ]
  },
  {
   "cell_type": "markdown",
   "metadata": {},
   "source": [
    "<img src=\"NNstructure.png\" style=\"width:200px\"/>"
   ]
  },
  {
   "cell_type": "markdown",
   "metadata": {},
   "source": [
    "## Compile Model"
   ]
  },
  {
   "cell_type": "markdown",
   "metadata": {},
   "source": [
    "Now that the model is defined, we can compile it. \n",
    "\n",
    "Compiling the model uses the efficient numerical libraries under the covers (the so-called backend) such as Theano or TensorFlow. **The backend automatically chooses the best way to represent the network for training and making predictions to run on your hardware**.\n",
    "\n",
    "When compiling, we must specify some additional properties required when training the network. Remember training a network means finding the best set of weights to make predictions for this problem.\n",
    "\n",
    "We must specify the **loss function** to use to evaluate a set of weights, the **optimizer** used to search through different weights for the network and **any optional metrics** we would like to collect and report during training. \n",
    "\n",
    "In this case we will use **logarithmic loss**, which for a binary classification problem is defined in Keras as the **binary crossentropy**. \n",
    "\n",
    "We will also use the efficient **gradient descent algorithm Adam** for no other reason that it is an efficient default. Learn more about the Adam optimization algorithm in the paper [Adam: A Method for Stochastic Optimization](http://arxiv.org/abs/1412.6980). \n",
    "\n",
    "Finally, because it is a classification problem, we will collect and report the classification **accuracy** as the metric."
   ]
  },
  {
   "cell_type": "code",
   "execution_count": 5,
   "metadata": {},
   "outputs": [],
   "source": [
    "# Compile model\n",
    "model.compile(loss='binary_crossentropy', optimizer='adam', metrics=['accuracy'])"
   ]
  },
  {
   "cell_type": "code",
   "execution_count": 6,
   "metadata": {},
   "outputs": [
    {
     "data": {
      "text/plain": [
       "<keras.models.Sequential at 0x325719490>"
      ]
     },
     "execution_count": 6,
     "metadata": {},
     "output_type": "execute_result"
    }
   ],
   "source": [
    "model"
   ]
  },
  {
   "cell_type": "markdown",
   "metadata": {},
   "source": [
    "## Fit Model"
   ]
  },
  {
   "cell_type": "markdown",
   "metadata": {},
   "source": [
    "We have defined our model and compiled it ready for efficient computation. Now it is time to execute the model on some data. We can train or fit our model on our loaded data by calling the $fit()$ function on the model.\n",
    "\n",
    "The training process will run for a fixed number of iterations through the dataset called **epochs**, that we must specify using the epochs argument. \n",
    "\n",
    "We can also set the number of instances that are evaluated before a weight update in the network is performed called the **batch size** and set it using the $batch size$ argument. \n",
    "\n",
    "For this problem we will run for a small number of epochs (150) and use a relatively small batch size of 10. Again, these can be chosen experimentally by trial and error."
   ]
  },
  {
   "cell_type": "code",
   "execution_count": 7,
   "metadata": {},
   "outputs": [
    {
     "name": "stdout",
     "output_type": "stream",
     "text": [
      "Epoch 1/150\n",
      "768/768 [==============================] - 0s - loss: 3.7420 - acc: 0.5977     \n",
      "Epoch 2/150\n",
      "768/768 [==============================] - 0s - loss: 0.9420 - acc: 0.5911     \n",
      "Epoch 3/150\n",
      "768/768 [==============================] - 0s - loss: 0.7495 - acc: 0.6419     \n",
      "Epoch 4/150\n",
      "768/768 [==============================] - 0s - loss: 0.7128 - acc: 0.6589     \n",
      "Epoch 5/150\n",
      "768/768 [==============================] - 0s - loss: 0.6821 - acc: 0.6758     \n",
      "Epoch 6/150\n",
      "768/768 [==============================] - 0s - loss: 0.6516 - acc: 0.6823     \n",
      "Epoch 7/150\n",
      "768/768 [==============================] - 0s - loss: 0.6505 - acc: 0.6784     \n",
      "Epoch 8/150\n",
      "768/768 [==============================] - 0s - loss: 0.6377 - acc: 0.6810     \n",
      "Epoch 9/150\n",
      "768/768 [==============================] - 0s - loss: 0.6251 - acc: 0.6979     \n",
      "Epoch 10/150\n",
      "768/768 [==============================] - 0s - loss: 0.6304 - acc: 0.6758     \n",
      "Epoch 11/150\n",
      "768/768 [==============================] - 0s - loss: 0.6459 - acc: 0.6745     \n",
      "Epoch 12/150\n",
      "768/768 [==============================] - 0s - loss: 0.6392 - acc: 0.6667     \n",
      "Epoch 13/150\n",
      "768/768 [==============================] - 0s - loss: 0.6263 - acc: 0.6758     \n",
      "Epoch 14/150\n",
      "768/768 [==============================] - 0s - loss: 0.6186 - acc: 0.7005     \n",
      "Epoch 15/150\n",
      "768/768 [==============================] - 0s - loss: 0.6024 - acc: 0.6940     \n",
      "Epoch 16/150\n",
      "768/768 [==============================] - 0s - loss: 0.5881 - acc: 0.7018     \n",
      "Epoch 17/150\n",
      "768/768 [==============================] - 0s - loss: 0.5843 - acc: 0.6979     \n",
      "Epoch 18/150\n",
      "768/768 [==============================] - 0s - loss: 0.5976 - acc: 0.6784     \n",
      "Epoch 19/150\n",
      "768/768 [==============================] - 0s - loss: 0.5772 - acc: 0.7096     \n",
      "Epoch 20/150\n",
      "768/768 [==============================] - 0s - loss: 0.5770 - acc: 0.7214     \n",
      "Epoch 21/150\n",
      "768/768 [==============================] - 0s - loss: 0.5657 - acc: 0.7174     \n",
      "Epoch 22/150\n",
      "768/768 [==============================] - 0s - loss: 0.5789 - acc: 0.6992     \n",
      "Epoch 23/150\n",
      "768/768 [==============================] - 0s - loss: 0.5725 - acc: 0.7135     \n",
      "Epoch 24/150\n",
      "768/768 [==============================] - 0s - loss: 0.5673 - acc: 0.7305     \n",
      "Epoch 25/150\n",
      "768/768 [==============================] - 0s - loss: 0.5571 - acc: 0.7370     \n",
      "Epoch 26/150\n",
      "768/768 [==============================] - 0s - loss: 0.5702 - acc: 0.7031     \n",
      "Epoch 27/150\n",
      "768/768 [==============================] - 0s - loss: 0.5554 - acc: 0.7214     \n",
      "Epoch 28/150\n",
      "768/768 [==============================] - 0s - loss: 0.5558 - acc: 0.7344     \n",
      "Epoch 29/150\n",
      "768/768 [==============================] - 0s - loss: 0.5728 - acc: 0.7161     \n",
      "Epoch 30/150\n",
      "768/768 [==============================] - 0s - loss: 0.5593 - acc: 0.7201     \n",
      "Epoch 31/150\n",
      "768/768 [==============================] - 0s - loss: 0.5695 - acc: 0.7148     \n",
      "Epoch 32/150\n",
      "768/768 [==============================] - 0s - loss: 0.5624 - acc: 0.7122     \n",
      "Epoch 33/150\n",
      "768/768 [==============================] - 0s - loss: 0.5506 - acc: 0.7187     \n",
      "Epoch 34/150\n",
      "768/768 [==============================] - 0s - loss: 0.5490 - acc: 0.7331     \n",
      "Epoch 35/150\n",
      "768/768 [==============================] - 0s - loss: 0.5487 - acc: 0.7201     \n",
      "Epoch 36/150\n",
      "768/768 [==============================] - 0s - loss: 0.5632 - acc: 0.7083     \n",
      "Epoch 37/150\n",
      "768/768 [==============================] - 0s - loss: 0.5353 - acc: 0.7383     \n",
      "Epoch 38/150\n",
      "768/768 [==============================] - 0s - loss: 0.5408 - acc: 0.7253     \n",
      "Epoch 39/150\n",
      "768/768 [==============================] - 0s - loss: 0.5458 - acc: 0.7214     \n",
      "Epoch 40/150\n",
      "768/768 [==============================] - 0s - loss: 0.5452 - acc: 0.7253     \n",
      "Epoch 41/150\n",
      "768/768 [==============================] - 0s - loss: 0.5434 - acc: 0.7331     \n",
      "Epoch 42/150\n",
      "768/768 [==============================] - 0s - loss: 0.5365 - acc: 0.7461     \n",
      "Epoch 43/150\n",
      "768/768 [==============================] - 0s - loss: 0.5315 - acc: 0.7422     \n",
      "Epoch 44/150\n",
      "768/768 [==============================] - 0s - loss: 0.5337 - acc: 0.7461     \n",
      "Epoch 45/150\n",
      "768/768 [==============================] - 0s - loss: 0.5308 - acc: 0.7526     \n",
      "Epoch 46/150\n",
      "768/768 [==============================] - 0s - loss: 0.5287 - acc: 0.7513     \n",
      "Epoch 47/150\n",
      "768/768 [==============================] - 0s - loss: 0.5315 - acc: 0.7357     \n",
      "Epoch 48/150\n",
      "768/768 [==============================] - 0s - loss: 0.5321 - acc: 0.7435     \n",
      "Epoch 49/150\n",
      "768/768 [==============================] - 0s - loss: 0.5335 - acc: 0.7448     \n",
      "Epoch 50/150\n",
      "768/768 [==============================] - 0s - loss: 0.5263 - acc: 0.7305     - ETA: 0s - loss: 0.5515 - acc: 0.70\n",
      "Epoch 51/150\n",
      "768/768 [==============================] - 0s - loss: 0.5269 - acc: 0.7461     \n",
      "Epoch 52/150\n",
      "768/768 [==============================] - 0s - loss: 0.5320 - acc: 0.7448     \n",
      "Epoch 53/150\n",
      "768/768 [==============================] - 0s - loss: 0.5386 - acc: 0.7448     \n",
      "Epoch 54/150\n",
      "768/768 [==============================] - 0s - loss: 0.5384 - acc: 0.7292     \n",
      "Epoch 55/150\n",
      "768/768 [==============================] - 0s - loss: 0.5214 - acc: 0.7513     \n",
      "Epoch 56/150\n",
      "768/768 [==============================] - 0s - loss: 0.5281 - acc: 0.7435     \n",
      "Epoch 57/150\n",
      "768/768 [==============================] - 0s - loss: 0.5310 - acc: 0.7370     \n",
      "Epoch 58/150\n",
      "768/768 [==============================] - 0s - loss: 0.5223 - acc: 0.7565     \n",
      "Epoch 59/150\n",
      "768/768 [==============================] - 0s - loss: 0.5139 - acc: 0.7578     \n",
      "Epoch 60/150\n",
      "768/768 [==============================] - 0s - loss: 0.5342 - acc: 0.7318     \n",
      "Epoch 61/150\n",
      "768/768 [==============================] - 0s - loss: 0.5278 - acc: 0.7331     \n",
      "Epoch 62/150\n",
      "768/768 [==============================] - 0s - loss: 0.5170 - acc: 0.7513     \n",
      "Epoch 63/150\n",
      "768/768 [==============================] - 0s - loss: 0.5445 - acc: 0.7370     \n",
      "Epoch 64/150\n",
      "768/768 [==============================] - 0s - loss: 0.5310 - acc: 0.7370     \n",
      "Epoch 65/150\n",
      "768/768 [==============================] - 0s - loss: 0.5212 - acc: 0.7474     \n",
      "Epoch 66/150\n",
      "768/768 [==============================] - 0s - loss: 0.5073 - acc: 0.7500     \n",
      "Epoch 67/150\n",
      "768/768 [==============================] - 0s - loss: 0.5155 - acc: 0.7357     \n",
      "Epoch 68/150\n",
      "768/768 [==============================] - 0s - loss: 0.5133 - acc: 0.7526     \n",
      "Epoch 69/150\n",
      "768/768 [==============================] - 0s - loss: 0.5128 - acc: 0.7487     \n",
      "Epoch 70/150\n",
      "768/768 [==============================] - 0s - loss: 0.5355 - acc: 0.7214     \n",
      "Epoch 71/150\n",
      "768/768 [==============================] - 0s - loss: 0.5177 - acc: 0.7409     \n",
      "Epoch 72/150\n",
      "768/768 [==============================] - 0s - loss: 0.5170 - acc: 0.7461     \n",
      "Epoch 73/150\n",
      "768/768 [==============================] - 0s - loss: 0.5176 - acc: 0.7500     \n",
      "Epoch 74/150\n",
      "768/768 [==============================] - 0s - loss: 0.5110 - acc: 0.7591     \n",
      "Epoch 75/150\n",
      "768/768 [==============================] - 0s - loss: 0.5108 - acc: 0.7526     \n",
      "Epoch 76/150\n",
      "768/768 [==============================] - 0s - loss: 0.5122 - acc: 0.7513     \n",
      "Epoch 77/150\n",
      "768/768 [==============================] - 0s - loss: 0.5168 - acc: 0.7617     \n",
      "Epoch 78/150\n",
      "768/768 [==============================] - 0s - loss: 0.5133 - acc: 0.7526     \n",
      "Epoch 79/150\n",
      "768/768 [==============================] - 0s - loss: 0.5149 - acc: 0.7305     \n",
      "Epoch 80/150\n",
      "768/768 [==============================] - 0s - loss: 0.5110 - acc: 0.7591     \n",
      "Epoch 81/150\n",
      "768/768 [==============================] - 0s - loss: 0.5070 - acc: 0.7669     \n",
      "Epoch 82/150\n",
      "768/768 [==============================] - 0s - loss: 0.5031 - acc: 0.7539     \n",
      "Epoch 83/150\n",
      "768/768 [==============================] - 0s - loss: 0.4997 - acc: 0.7526     \n",
      "Epoch 84/150\n",
      "768/768 [==============================] - 0s - loss: 0.4990 - acc: 0.7591     \n",
      "Epoch 85/150\n",
      "768/768 [==============================] - 0s - loss: 0.5065 - acc: 0.7474     \n",
      "Epoch 86/150\n",
      "768/768 [==============================] - 0s - loss: 0.5075 - acc: 0.7526     \n",
      "Epoch 87/150\n",
      "768/768 [==============================] - 0s - loss: 0.4998 - acc: 0.7526     \n",
      "Epoch 88/150\n"
     ]
    },
    {
     "name": "stdout",
     "output_type": "stream",
     "text": [
      "768/768 [==============================] - 0s - loss: 0.5035 - acc: 0.7630     \n",
      "Epoch 89/150\n",
      "768/768 [==============================] - 0s - loss: 0.5077 - acc: 0.7591     \n",
      "Epoch 90/150\n",
      "768/768 [==============================] - 0s - loss: 0.5102 - acc: 0.7539     \n",
      "Epoch 91/150\n",
      "768/768 [==============================] - 0s - loss: 0.5033 - acc: 0.7526     \n",
      "Epoch 92/150\n",
      "768/768 [==============================] - 0s - loss: 0.5066 - acc: 0.7422     \n",
      "Epoch 93/150\n",
      "768/768 [==============================] - 0s - loss: 0.4998 - acc: 0.7604     \n",
      "Epoch 94/150\n",
      "768/768 [==============================] - 0s - loss: 0.5005 - acc: 0.7578     \n",
      "Epoch 95/150\n",
      "768/768 [==============================] - 0s - loss: 0.5052 - acc: 0.7513     \n",
      "Epoch 96/150\n",
      "768/768 [==============================] - 0s - loss: 0.4937 - acc: 0.7643     \n",
      "Epoch 97/150\n",
      "768/768 [==============================] - 0s - loss: 0.5002 - acc: 0.7682     \n",
      "Epoch 98/150\n",
      "768/768 [==============================] - 0s - loss: 0.4924 - acc: 0.7552     \n",
      "Epoch 99/150\n",
      "768/768 [==============================] - 0s - loss: 0.4931 - acc: 0.7617     \n",
      "Epoch 100/150\n",
      "768/768 [==============================] - 0s - loss: 0.4859 - acc: 0.7760     \n",
      "Epoch 101/150\n",
      "768/768 [==============================] - 0s - loss: 0.4920 - acc: 0.7695     \n",
      "Epoch 102/150\n",
      "768/768 [==============================] - 0s - loss: 0.4995 - acc: 0.7565     \n",
      "Epoch 103/150\n",
      "768/768 [==============================] - 0s - loss: 0.5034 - acc: 0.7513     \n",
      "Epoch 104/150\n",
      "768/768 [==============================] - 0s - loss: 0.4945 - acc: 0.7852     \n",
      "Epoch 105/150\n",
      "768/768 [==============================] - 0s - loss: 0.5317 - acc: 0.7448     \n",
      "Epoch 106/150\n",
      "768/768 [==============================] - 0s - loss: 0.4937 - acc: 0.7747     \n",
      "Epoch 107/150\n",
      "768/768 [==============================] - 0s - loss: 0.4916 - acc: 0.7656     \n",
      "Epoch 108/150\n",
      "768/768 [==============================] - 0s - loss: 0.4981 - acc: 0.7669     \n",
      "Epoch 109/150\n",
      "768/768 [==============================] - 0s - loss: 0.4882 - acc: 0.7617     \n",
      "Epoch 110/150\n",
      "768/768 [==============================] - ETA: 0s - loss: 0.4976 - acc: 0.763 - 0s - loss: 0.4914 - acc: 0.7669     \n",
      "Epoch 111/150\n",
      "768/768 [==============================] - 0s - loss: 0.4852 - acc: 0.7760     \n",
      "Epoch 112/150\n",
      "768/768 [==============================] - 0s - loss: 0.4909 - acc: 0.7708     \n",
      "Epoch 113/150\n",
      "768/768 [==============================] - 0s - loss: 0.4987 - acc: 0.7630     \n",
      "Epoch 114/150\n",
      "768/768 [==============================] - 0s - loss: 0.4947 - acc: 0.7604     \n",
      "Epoch 115/150\n",
      "768/768 [==============================] - 0s - loss: 0.4942 - acc: 0.7656     \n",
      "Epoch 116/150\n",
      "768/768 [==============================] - 0s - loss: 0.4950 - acc: 0.7695     \n",
      "Epoch 117/150\n",
      "768/768 [==============================] - 0s - loss: 0.4914 - acc: 0.7617     \n",
      "Epoch 118/150\n",
      "768/768 [==============================] - 0s - loss: 0.4913 - acc: 0.7773     \n",
      "Epoch 119/150\n",
      "768/768 [==============================] - 0s - loss: 0.4831 - acc: 0.7682     \n",
      "Epoch 120/150\n",
      "768/768 [==============================] - 0s - loss: 0.4943 - acc: 0.7708     \n",
      "Epoch 121/150\n",
      "768/768 [==============================] - 0s - loss: 0.4937 - acc: 0.7747     \n",
      "Epoch 122/150\n",
      "768/768 [==============================] - 0s - loss: 0.4842 - acc: 0.7760     \n",
      "Epoch 123/150\n",
      "768/768 [==============================] - 0s - loss: 0.4820 - acc: 0.7708     \n",
      "Epoch 124/150\n",
      "768/768 [==============================] - 0s - loss: 0.4832 - acc: 0.7812     \n",
      "Epoch 125/150\n",
      "768/768 [==============================] - 0s - loss: 0.4876 - acc: 0.7773     \n",
      "Epoch 126/150\n",
      "768/768 [==============================] - 0s - loss: 0.4811 - acc: 0.7773     \n",
      "Epoch 127/150\n",
      "768/768 [==============================] - 0s - loss: 0.4905 - acc: 0.7695     \n",
      "Epoch 128/150\n",
      "768/768 [==============================] - 0s - loss: 0.4725 - acc: 0.7747     \n",
      "Epoch 129/150\n",
      "768/768 [==============================] - 0s - loss: 0.4811 - acc: 0.7721     \n",
      "Epoch 130/150\n",
      "768/768 [==============================] - 0s - loss: 0.4756 - acc: 0.7878     \n",
      "Epoch 131/150\n",
      "768/768 [==============================] - 0s - loss: 0.4811 - acc: 0.7747     \n",
      "Epoch 132/150\n",
      "768/768 [==============================] - 0s - loss: 0.4806 - acc: 0.7839     \n",
      "Epoch 133/150\n",
      "768/768 [==============================] - 0s - loss: 0.4835 - acc: 0.7643     \n",
      "Epoch 134/150\n",
      "768/768 [==============================] - 0s - loss: 0.4850 - acc: 0.7708     \n",
      "Epoch 135/150\n",
      "768/768 [==============================] - 0s - loss: 0.4782 - acc: 0.7760     \n",
      "Epoch 136/150\n",
      "768/768 [==============================] - 0s - loss: 0.4751 - acc: 0.7760     \n",
      "Epoch 137/150\n",
      "768/768 [==============================] - 0s - loss: 0.4680 - acc: 0.7812     \n",
      "Epoch 138/150\n",
      "768/768 [==============================] - 0s - loss: 0.4810 - acc: 0.7826     \n",
      "Epoch 139/150\n",
      "768/768 [==============================] - 0s - loss: 0.4656 - acc: 0.7891     \n",
      "Epoch 140/150\n",
      "768/768 [==============================] - 0s - loss: 0.4841 - acc: 0.7799     \n",
      "Epoch 141/150\n",
      "768/768 [==============================] - 0s - loss: 0.4733 - acc: 0.7865     \n",
      "Epoch 142/150\n",
      "768/768 [==============================] - 0s - loss: 0.4842 - acc: 0.7734     \n",
      "Epoch 143/150\n",
      "768/768 [==============================] - 0s - loss: 0.4752 - acc: 0.7708     \n",
      "Epoch 144/150\n",
      "768/768 [==============================] - 0s - loss: 0.4756 - acc: 0.7747     \n",
      "Epoch 145/150\n",
      "768/768 [==============================] - 0s - loss: 0.4887 - acc: 0.7630     \n",
      "Epoch 146/150\n",
      "768/768 [==============================] - 0s - loss: 0.4924 - acc: 0.7695     \n",
      "Epoch 147/150\n",
      "768/768 [==============================] - 0s - loss: 0.4841 - acc: 0.7786     \n",
      "Epoch 148/150\n",
      "768/768 [==============================] - 0s - loss: 0.4721 - acc: 0.7708     \n",
      "Epoch 149/150\n",
      "768/768 [==============================] - 0s - loss: 0.4745 - acc: 0.7656     \n",
      "Epoch 150/150\n",
      "768/768 [==============================] - 0s - loss: 0.4773 - acc: 0.7721     \n"
     ]
    },
    {
     "data": {
      "text/plain": [
       "<keras.callbacks.History at 0x325c097d0>"
      ]
     },
     "execution_count": 7,
     "metadata": {},
     "output_type": "execute_result"
    }
   ],
   "source": [
    "# Fit the model\n",
    "model.fit(X, Y, epochs=150, batch_size=10)"
   ]
  },
  {
   "cell_type": "markdown",
   "metadata": {},
   "source": [
    "_NOTE: This is where the work happens on your CPU or GPU._"
   ]
  },
  {
   "cell_type": "markdown",
   "metadata": {},
   "source": [
    "## Evaluate Model"
   ]
  },
  {
   "cell_type": "markdown",
   "metadata": {},
   "source": [
    "We have trained our neural network on the entire dataset and we can evaluate the performance of the network on the same dataset. This will only give us an idea of how well we have modeled the dataset (e.g. train accuracy), but no idea of how well the algorithm might perform on new data. We have done this for simplicity here - and YOU KNOW HOW TO DEAL WITH THIS PROBLEM - but ideally, you should separate your data into train and test datasets for the training and evaluation of your model.\n",
    "\n",
    "You can evaluate your model on your training dataset using the evaluation() function on your model and pass it the same input and output used to train the model. This will generate a prediction for each input and output pair and collect scores, including the average loss and any metrics you have configured, such as accuracy."
   ]
  },
  {
   "cell_type": "code",
   "execution_count": 8,
   "metadata": {},
   "outputs": [
    {
     "name": "stdout",
     "output_type": "stream",
     "text": [
      " 32/768 [>.............................] - ETA: 0s\n",
      "acc: 78.78%\n"
     ]
    }
   ],
   "source": [
    "# evaluate the model\n",
    "scores = model.evaluate(X, Y)\n",
    "print(\"\\n%s: %.2f%%\" % (model.metrics_names[1], scores[1]*100))"
   ]
  },
  {
   "cell_type": "markdown",
   "metadata": {},
   "source": [
    "## Tie It All Together"
   ]
  },
  {
   "cell_type": "markdown",
   "metadata": {},
   "source": [
    "You have just seen how you can easily create your first neural network model in Keras. Let’s tie it all together into a complete code example."
   ]
  },
  {
   "cell_type": "code",
   "execution_count": 9,
   "metadata": {},
   "outputs": [
    {
     "name": "stdout",
     "output_type": "stream",
     "text": [
      "Epoch 1/150\n",
      "768/768 [==============================] - 0s - loss: 3.7470 - acc: 0.6003     \n",
      "Epoch 2/150\n",
      "768/768 [==============================] - 0s - loss: 0.9426 - acc: 0.5938     \n",
      "Epoch 3/150\n",
      "768/768 [==============================] - 0s - loss: 0.7511 - acc: 0.6367     \n",
      "Epoch 4/150\n",
      "768/768 [==============================] - 0s - loss: 0.7132 - acc: 0.6549     \n",
      "Epoch 5/150\n",
      "768/768 [==============================] - 0s - loss: 0.6826 - acc: 0.6732     \n",
      "Epoch 6/150\n",
      "768/768 [==============================] - 0s - loss: 0.6515 - acc: 0.6836     \n",
      "Epoch 7/150\n",
      "768/768 [==============================] - 0s - loss: 0.6498 - acc: 0.6758     \n",
      "Epoch 8/150\n",
      "768/768 [==============================] - 0s - loss: 0.6375 - acc: 0.6862     \n",
      "Epoch 9/150\n",
      "768/768 [==============================] - 0s - loss: 0.6249 - acc: 0.6940     \n",
      "Epoch 10/150\n",
      "768/768 [==============================] - 0s - loss: 0.6316 - acc: 0.6758     \n",
      "Epoch 11/150\n",
      "768/768 [==============================] - 0s - loss: 0.6501 - acc: 0.6719     \n",
      "Epoch 12/150\n",
      "768/768 [==============================] - 0s - loss: 0.6422 - acc: 0.6784     \n",
      "Epoch 13/150\n",
      "768/768 [==============================] - 0s - loss: 0.6267 - acc: 0.6823     \n",
      "Epoch 14/150\n",
      "768/768 [==============================] - 0s - loss: 0.6196 - acc: 0.6979     \n",
      "Epoch 15/150\n",
      "768/768 [==============================] - 0s - loss: 0.6033 - acc: 0.6914     \n",
      "Epoch 16/150\n",
      "768/768 [==============================] - 0s - loss: 0.5877 - acc: 0.6966     \n",
      "Epoch 17/150\n",
      "768/768 [==============================] - 0s - loss: 0.5853 - acc: 0.7018     \n",
      "Epoch 18/150\n",
      "768/768 [==============================] - 0s - loss: 0.6000 - acc: 0.6914     \n",
      "Epoch 19/150\n",
      "768/768 [==============================] - 0s - loss: 0.5809 - acc: 0.7096     \n",
      "Epoch 20/150\n",
      "768/768 [==============================] - 0s - loss: 0.5801 - acc: 0.7201     \n",
      "Epoch 21/150\n",
      "768/768 [==============================] - 0s - loss: 0.5698 - acc: 0.7096     \n",
      "Epoch 22/150\n",
      "768/768 [==============================] - 0s - loss: 0.5828 - acc: 0.6940     \n",
      "Epoch 23/150\n",
      "768/768 [==============================] - 0s - loss: 0.5742 - acc: 0.7135     \n",
      "Epoch 24/150\n",
      "768/768 [==============================] - 0s - loss: 0.5693 - acc: 0.7318     \n",
      "Epoch 25/150\n",
      "768/768 [==============================] - 0s - loss: 0.5574 - acc: 0.7370     \n",
      "Epoch 26/150\n",
      "768/768 [==============================] - 0s - loss: 0.5697 - acc: 0.7070     \n",
      "Epoch 27/150\n",
      "768/768 [==============================] - 0s - loss: 0.5550 - acc: 0.7201     \n",
      "Epoch 28/150\n",
      "768/768 [==============================] - 0s - loss: 0.5554 - acc: 0.7292     \n",
      "Epoch 29/150\n",
      "768/768 [==============================] - 0s - loss: 0.5733 - acc: 0.7174     \n",
      "Epoch 30/150\n",
      "768/768 [==============================] - 0s - loss: 0.5613 - acc: 0.7227     \n",
      "Epoch 31/150\n",
      "768/768 [==============================] - 0s - loss: 0.5683 - acc: 0.7188     \n",
      "Epoch 32/150\n",
      "768/768 [==============================] - 0s - loss: 0.5640 - acc: 0.7122     \n",
      "Epoch 33/150\n",
      "768/768 [==============================] - 0s - loss: 0.5528 - acc: 0.7174     \n",
      "Epoch 34/150\n",
      "768/768 [==============================] - 0s - loss: 0.5502 - acc: 0.7279     \n",
      "Epoch 35/150\n",
      "768/768 [==============================] - 0s - loss: 0.5497 - acc: 0.7292     \n",
      "Epoch 36/150\n",
      "768/768 [==============================] - 0s - loss: 0.5655 - acc: 0.7044     \n",
      "Epoch 37/150\n",
      "768/768 [==============================] - 0s - loss: 0.5339 - acc: 0.7409     \n",
      "Epoch 38/150\n",
      "768/768 [==============================] - 0s - loss: 0.5402 - acc: 0.7201     \n",
      "Epoch 39/150\n",
      "768/768 [==============================] - 0s - loss: 0.5472 - acc: 0.7253     \n",
      "Epoch 40/150\n",
      "768/768 [==============================] - 0s - loss: 0.5437 - acc: 0.7240     \n",
      "Epoch 41/150\n",
      "768/768 [==============================] - 0s - loss: 0.5427 - acc: 0.7344     \n",
      "Epoch 42/150\n",
      "768/768 [==============================] - 0s - loss: 0.5365 - acc: 0.7500     \n",
      "Epoch 43/150\n",
      "768/768 [==============================] - 0s - loss: 0.5299 - acc: 0.7474     \n",
      "Epoch 44/150\n",
      "768/768 [==============================] - 0s - loss: 0.5343 - acc: 0.7461     \n",
      "Epoch 45/150\n",
      "768/768 [==============================] - 0s - loss: 0.5313 - acc: 0.7604     \n",
      "Epoch 46/150\n",
      "768/768 [==============================] - 0s - loss: 0.5285 - acc: 0.7539     \n",
      "Epoch 47/150\n",
      "768/768 [==============================] - 0s - loss: 0.5328 - acc: 0.7396     \n",
      "Epoch 48/150\n",
      "768/768 [==============================] - 0s - loss: 0.5331 - acc: 0.7448     \n",
      "Epoch 49/150\n",
      "768/768 [==============================] - 0s - loss: 0.5340 - acc: 0.7565     \n",
      "Epoch 50/150\n",
      "768/768 [==============================] - 0s - loss: 0.5258 - acc: 0.7435     \n",
      "Epoch 51/150\n",
      "768/768 [==============================] - 0s - loss: 0.5284 - acc: 0.7552     \n",
      "Epoch 52/150\n",
      "768/768 [==============================] - 0s - loss: 0.5287 - acc: 0.7448     \n",
      "Epoch 53/150\n",
      "768/768 [==============================] - 0s - loss: 0.5388 - acc: 0.7409     \n",
      "Epoch 54/150\n",
      "768/768 [==============================] - 0s - loss: 0.5376 - acc: 0.7240     \n",
      "Epoch 55/150\n",
      "768/768 [==============================] - 0s - loss: 0.5216 - acc: 0.7539     \n",
      "Epoch 56/150\n",
      "768/768 [==============================] - 0s - loss: 0.5286 - acc: 0.7409     \n",
      "Epoch 57/150\n",
      "768/768 [==============================] - 0s - loss: 0.5320 - acc: 0.7370     \n",
      "Epoch 58/150\n",
      "768/768 [==============================] - 0s - loss: 0.5225 - acc: 0.7448     \n",
      "Epoch 59/150\n",
      "768/768 [==============================] - 0s - loss: 0.5119 - acc: 0.7617     \n",
      "Epoch 60/150\n",
      "768/768 [==============================] - 0s - loss: 0.5358 - acc: 0.7305     \n",
      "Epoch 61/150\n",
      "768/768 [==============================] - 0s - loss: 0.5283 - acc: 0.7422     \n",
      "Epoch 62/150\n",
      "768/768 [==============================] - 0s - loss: 0.5169 - acc: 0.7591     \n",
      "Epoch 63/150\n",
      "768/768 [==============================] - 0s - loss: 0.5445 - acc: 0.7331     \n",
      "Epoch 64/150\n",
      "768/768 [==============================] - 0s - loss: 0.5319 - acc: 0.7422     \n",
      "Epoch 65/150\n",
      "768/768 [==============================] - 0s - loss: 0.5201 - acc: 0.7487     \n",
      "Epoch 66/150\n",
      "768/768 [==============================] - 0s - loss: 0.5069 - acc: 0.7500     \n",
      "Epoch 67/150\n",
      "768/768 [==============================] - 0s - loss: 0.5166 - acc: 0.7357     \n",
      "Epoch 68/150\n",
      "768/768 [==============================] - 0s - loss: 0.5153 - acc: 0.7539     \n",
      "Epoch 69/150\n",
      "768/768 [==============================] - 0s - loss: 0.5155 - acc: 0.7552     \n",
      "Epoch 70/150\n",
      "768/768 [==============================] - 0s - loss: 0.5382 - acc: 0.7266     \n",
      "Epoch 71/150\n",
      "768/768 [==============================] - 0s - loss: 0.5181 - acc: 0.7409     \n",
      "Epoch 72/150\n",
      "768/768 [==============================] - 0s - loss: 0.5171 - acc: 0.7500     \n",
      "Epoch 73/150\n",
      "768/768 [==============================] - 0s - loss: 0.5168 - acc: 0.7513     \n",
      "Epoch 74/150\n",
      "768/768 [==============================] - 0s - loss: 0.5110 - acc: 0.7617     \n",
      "Epoch 75/150\n",
      "768/768 [==============================] - 0s - loss: 0.5102 - acc: 0.7552     \n",
      "Epoch 76/150\n",
      "768/768 [==============================] - 0s - loss: 0.5121 - acc: 0.7539     \n",
      "Epoch 77/150\n",
      "768/768 [==============================] - 0s - loss: 0.5160 - acc: 0.7617     \n",
      "Epoch 78/150\n",
      "768/768 [==============================] - 0s - loss: 0.5124 - acc: 0.7513     \n",
      "Epoch 79/150\n",
      "768/768 [==============================] - 0s - loss: 0.5149 - acc: 0.7331     \n",
      "Epoch 80/150\n",
      "768/768 [==============================] - 0s - loss: 0.5121 - acc: 0.7565     \n",
      "Epoch 81/150\n",
      "768/768 [==============================] - 0s - loss: 0.5086 - acc: 0.7695     \n",
      "Epoch 82/150\n",
      "768/768 [==============================] - 0s - loss: 0.5046 - acc: 0.7539     \n",
      "Epoch 83/150\n",
      "768/768 [==============================] - 0s - loss: 0.4998 - acc: 0.7565     \n",
      "Epoch 84/150\n",
      "768/768 [==============================] - 0s - loss: 0.4985 - acc: 0.7669     \n",
      "Epoch 85/150\n",
      "768/768 [==============================] - 0s - loss: 0.5070 - acc: 0.7422     \n",
      "Epoch 86/150\n",
      "768/768 [==============================] - 0s - loss: 0.5071 - acc: 0.7513     \n",
      "Epoch 87/150\n",
      "768/768 [==============================] - 0s - loss: 0.5002 - acc: 0.7539     \n",
      "Epoch 88/150\n",
      "768/768 [==============================] - 0s - loss: 0.5036 - acc: 0.7656     \n",
      "Epoch 89/150\n"
     ]
    },
    {
     "name": "stdout",
     "output_type": "stream",
     "text": [
      "768/768 [==============================] - 0s - loss: 0.5074 - acc: 0.7630     \n",
      "Epoch 90/150\n",
      "768/768 [==============================] - 0s - loss: 0.5090 - acc: 0.7526     \n",
      "Epoch 91/150\n",
      "768/768 [==============================] - 0s - loss: 0.5033 - acc: 0.7539     \n",
      "Epoch 92/150\n",
      "768/768 [==============================] - 0s - loss: 0.5062 - acc: 0.7474     \n",
      "Epoch 93/150\n",
      "768/768 [==============================] - 0s - loss: 0.5005 - acc: 0.7656     \n",
      "Epoch 94/150\n",
      "768/768 [==============================] - 0s - loss: 0.5003 - acc: 0.7617     \n",
      "Epoch 95/150\n",
      "768/768 [==============================] - 0s - loss: 0.5072 - acc: 0.7500     \n",
      "Epoch 96/150\n",
      "768/768 [==============================] - 0s - loss: 0.4955 - acc: 0.7617     \n",
      "Epoch 97/150\n",
      "768/768 [==============================] - 0s - loss: 0.5008 - acc: 0.7747     \n",
      "Epoch 98/150\n",
      "768/768 [==============================] - 0s - loss: 0.4920 - acc: 0.7669     \n",
      "Epoch 99/150\n",
      "768/768 [==============================] - 0s - loss: 0.4922 - acc: 0.7669     \n",
      "Epoch 100/150\n",
      "768/768 [==============================] - 0s - loss: 0.4847 - acc: 0.7760     \n",
      "Epoch 101/150\n",
      "768/768 [==============================] - 0s - loss: 0.4911 - acc: 0.7721     \n",
      "Epoch 102/150\n",
      "768/768 [==============================] - 0s - loss: 0.4996 - acc: 0.7565     \n",
      "Epoch 103/150\n",
      "768/768 [==============================] - 0s - loss: 0.5016 - acc: 0.7474     \n",
      "Epoch 104/150\n",
      "768/768 [==============================] - 0s - loss: 0.4947 - acc: 0.7878     \n",
      "Epoch 105/150\n",
      "768/768 [==============================] - 0s - loss: 0.5317 - acc: 0.7422     \n",
      "Epoch 106/150\n",
      "768/768 [==============================] - 0s - loss: 0.4946 - acc: 0.7773     \n",
      "Epoch 107/150\n",
      "768/768 [==============================] - 0s - loss: 0.4928 - acc: 0.7721     \n",
      "Epoch 108/150\n",
      "768/768 [==============================] - 0s - loss: 0.5006 - acc: 0.7682     \n",
      "Epoch 109/150\n",
      "768/768 [==============================] - 0s - loss: 0.4886 - acc: 0.7630     \n",
      "Epoch 110/150\n",
      "768/768 [==============================] - 0s - loss: 0.4927 - acc: 0.7721     \n",
      "Epoch 111/150\n",
      "768/768 [==============================] - 0s - loss: 0.4847 - acc: 0.7812     \n",
      "Epoch 112/150\n",
      "768/768 [==============================] - 0s - loss: 0.4958 - acc: 0.7734     \n",
      "Epoch 113/150\n",
      "768/768 [==============================] - 0s - loss: 0.4962 - acc: 0.7578     \n",
      "Epoch 114/150\n",
      "768/768 [==============================] - 0s - loss: 0.4936 - acc: 0.7604     \n",
      "Epoch 115/150\n",
      "768/768 [==============================] - 0s - loss: 0.4934 - acc: 0.7760     \n",
      "Epoch 116/150\n",
      "768/768 [==============================] - 0s - loss: 0.4942 - acc: 0.7695     \n",
      "Epoch 117/150\n",
      "768/768 [==============================] - 0s - loss: 0.4941 - acc: 0.7630     \n",
      "Epoch 118/150\n",
      "768/768 [==============================] - 0s - loss: 0.4900 - acc: 0.7760     \n",
      "Epoch 119/150\n",
      "768/768 [==============================] - 0s - loss: 0.4850 - acc: 0.7630     \n",
      "Epoch 120/150\n",
      "768/768 [==============================] - 0s - loss: 0.4961 - acc: 0.7721     \n",
      "Epoch 121/150\n",
      "768/768 [==============================] - 0s - loss: 0.4957 - acc: 0.7695     \n",
      "Epoch 122/150\n",
      "768/768 [==============================] - 0s - loss: 0.4873 - acc: 0.7826     \n",
      "Epoch 123/150\n",
      "768/768 [==============================] - 0s - loss: 0.4829 - acc: 0.7695     \n",
      "Epoch 124/150\n",
      "768/768 [==============================] - 0s - loss: 0.4842 - acc: 0.7812     \n",
      "Epoch 125/150\n",
      "768/768 [==============================] - 0s - loss: 0.4873 - acc: 0.7812     \n",
      "Epoch 126/150\n",
      "768/768 [==============================] - 0s - loss: 0.4823 - acc: 0.7786     \n",
      "Epoch 127/150\n",
      "768/768 [==============================] - 0s - loss: 0.4905 - acc: 0.7682     \n",
      "Epoch 128/150\n",
      "768/768 [==============================] - 0s - loss: 0.4735 - acc: 0.7760     \n",
      "Epoch 129/150\n",
      "768/768 [==============================] - 0s - loss: 0.4808 - acc: 0.7747     \n",
      "Epoch 130/150\n",
      "768/768 [==============================] - 0s - loss: 0.4762 - acc: 0.7878     \n",
      "Epoch 131/150\n",
      "768/768 [==============================] - 0s - loss: 0.4830 - acc: 0.7656     \n",
      "Epoch 132/150\n",
      "768/768 [==============================] - 0s - loss: 0.4844 - acc: 0.7799     \n",
      "Epoch 133/150\n",
      "768/768 [==============================] - 0s - loss: 0.4838 - acc: 0.7643     \n",
      "Epoch 134/150\n",
      "768/768 [==============================] - 0s - loss: 0.4854 - acc: 0.7747     \n",
      "Epoch 135/150\n",
      "768/768 [==============================] - 0s - loss: 0.4786 - acc: 0.7747     \n",
      "Epoch 136/150\n",
      "768/768 [==============================] - 0s - loss: 0.4748 - acc: 0.7773     \n",
      "Epoch 137/150\n",
      "768/768 [==============================] - 0s - loss: 0.4697 - acc: 0.7786     \n",
      "Epoch 138/150\n",
      "768/768 [==============================] - 0s - loss: 0.4816 - acc: 0.7734     \n",
      "Epoch 139/150\n",
      "768/768 [==============================] - 0s - loss: 0.4662 - acc: 0.7917     \n",
      "Epoch 140/150\n",
      "768/768 [==============================] - 0s - loss: 0.4833 - acc: 0.7799     \n",
      "Epoch 141/150\n",
      "768/768 [==============================] - 0s - loss: 0.4756 - acc: 0.7786     \n",
      "Epoch 142/150\n",
      "768/768 [==============================] - 0s - loss: 0.4840 - acc: 0.7747     \n",
      "Epoch 143/150\n",
      "768/768 [==============================] - 0s - loss: 0.4772 - acc: 0.7695     \n",
      "Epoch 144/150\n",
      "768/768 [==============================] - 0s - loss: 0.4782 - acc: 0.7773     \n",
      "Epoch 145/150\n",
      "768/768 [==============================] - 0s - loss: 0.4930 - acc: 0.7643     \n",
      "Epoch 146/150\n",
      "768/768 [==============================] - 0s - loss: 0.4940 - acc: 0.7669     \n",
      "Epoch 147/150\n",
      "768/768 [==============================] - ETA: 0s - loss: 0.4796 - acc: 0.777 - 0s - loss: 0.4855 - acc: 0.7721     \n",
      "Epoch 148/150\n",
      "768/768 [==============================] - 0s - loss: 0.4736 - acc: 0.7643     \n",
      "Epoch 149/150\n",
      "768/768 [==============================] - 0s - loss: 0.4752 - acc: 0.7708     \n",
      "Epoch 150/150\n",
      "768/768 [==============================] - 0s - loss: 0.4791 - acc: 0.7721     \n",
      " 32/768 [>.............................] - ETA: 0s\n",
      "acc: 79.04%\n"
     ]
    }
   ],
   "source": [
    "# Create your first MLP in Keras\n",
    "from keras.models import Sequential\n",
    "from keras.layers import Dense\n",
    "import numpy\n",
    "# fix random seed for reproducibility\n",
    "numpy.random.seed(7)\n",
    "# load pima indians dataset\n",
    "dataset = numpy.loadtxt(\"pima-indians-diabetes.data.csv\", delimiter=\",\")\n",
    "# split into input (X) and output (Y) variables\n",
    "X = dataset[:,0:8]\n",
    "Y = dataset[:,8]\n",
    "# create model\n",
    "model = Sequential()\n",
    "model.add(Dense(12, input_dim=8, activation='relu'))\n",
    "model.add(Dense(8, activation='relu'))\n",
    "model.add(Dense(1, activation='sigmoid'))\n",
    "# Compile model\n",
    "model.compile(loss='binary_crossentropy', optimizer='adam', metrics=['accuracy']) # Fit the model\n",
    "model.fit(X, Y, epochs=150, batch_size=10)\n",
    "# evaluate the model\n",
    "scores = model.evaluate(X, Y)\n",
    "print(\"\\n%s: %.2f%%\" % (model.metrics_names[1], scores[1]*100))"
   ]
  },
  {
   "cell_type": "markdown",
   "metadata": {},
   "source": [
    "Exercise into using this code from notebooks to actual py script that you run via a shell."
   ]
  },
  {
   "cell_type": "markdown",
   "metadata": {},
   "source": [
    "Running this example, you should see a message for each of the 150 epochs printing the loss and accuracy for each, followed by the final evaluation of the trained model on the training dataset. It takes about 30 seconds to execute on my workstation running on the CPU with a TF backend."
   ]
  },
  {
   "cell_type": "markdown",
   "metadata": {},
   "source": [
    "## Visualize the training history"
   ]
  },
  {
   "cell_type": "code",
   "execution_count": null,
   "metadata": {},
   "outputs": [],
   "source": [
    "import matplotlib.pyplot as plt\n",
    "history = model.fit(X, Y, epochs=150, batch_size=10)\n",
    "\n",
    "# Plot training & validation accuracy values\n",
    "plt.plot(history.history['acc'])\n",
    "plt.title('Model accuracy')\n",
    "plt.ylabel('Accuracy')\n",
    "plt.xlabel('Epoch')\n",
    "plt.legend(['Train', 'Test'], loc='upper left')\n",
    "plt.show()\n",
    "\n",
    "# Plot training & validation loss values\n",
    "plt.plot(history.history['loss'])\n",
    "plt.title('Model loss')\n",
    "plt.ylabel('Loss')\n",
    "plt.xlabel('Epoch')\n",
    "plt.legend(['Train', 'Test'], loc='upper left')\n",
    "plt.show()"
   ]
  },
  {
   "cell_type": "markdown",
   "metadata": {},
   "source": [
    "## Visualize a NN model in Keras"
   ]
  },
  {
   "cell_type": "markdown",
   "metadata": {},
   "source": [
    "Simplest (not graphical, though) is:"
   ]
  },
  {
   "cell_type": "code",
   "execution_count": null,
   "metadata": {},
   "outputs": [],
   "source": [
    "print(model.summary())"
   ]
  },
  {
   "cell_type": "markdown",
   "metadata": {},
   "source": [
    "Additionally, you can dump your model architecture into a file:\n",
    "\n",
    "    from keras.utils import plot_model\n",
    "    plot_model(model, to_file='model.png')\n",
    "\n",
    "Another way is:\n",
    "\n",
    "    from IPython.display import SVG\n",
    "    from keras.utils.vis_utils import model_to_dot\n",
    "    SVG(model_to_dot(model).create(prog='dot', format='svg'))\n",
    "\n",
    "Note that - in both cases - these work only if you have installed:\n",
    "\n",
    "    pydot\n",
    "    graphviz\n",
    "\n",
    "(and related dependencies)."
   ]
  },
  {
   "cell_type": "markdown",
   "metadata": {},
   "source": [
    "## Summary"
   ]
  },
  {
   "cell_type": "markdown",
   "metadata": {},
   "source": [
    "What we learned:\n",
    "\n",
    "* we discovered how to create your first neural network model using the powerful Keras Python library for deep learning. \n",
    "* Specifically you learned the five key steps in using Keras to create a neural network or deep learning model, step-by-step including:\n",
    "\n",
    "    1. How to load data.\n",
    "    2. How to define a neural network model in Keras.\n",
    "    3. How to compile a Keras model using the efficient numerical backend.   How to train a model on data.\n",
    "    4. How to evaluate a model on data."
   ]
  },
  {
   "cell_type": "markdown",
   "metadata": {},
   "source": [
    "## What's next "
   ]
  },
  {
   "cell_type": "markdown",
   "metadata": {},
   "source": [
    "Discover different ways that you can evaluate your models and estimate their performance on unseen data."
   ]
  }
 ],
 "metadata": {
  "kernelspec": {
   "display_name": "Python 2",
   "language": "python",
   "name": "python2"
  },
  "language_info": {
   "codemirror_mode": {
    "name": "ipython",
    "version": 2
   },
   "file_extension": ".py",
   "mimetype": "text/x-python",
   "name": "python",
   "nbconvert_exporter": "python",
   "pygments_lexer": "ipython2",
   "version": "2.7.16"
  }
 },
 "nbformat": 4,
 "nbformat_minor": 2
}
