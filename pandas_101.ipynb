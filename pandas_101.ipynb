{
 "cells": [
  {
   "cell_type": "markdown",
   "metadata": {},
   "source": [
    "# Pandas 101 (a crash course for students)"
   ]
  },
  {
   "cell_type": "markdown",
   "metadata": {},
   "source": [
    "Just something quick and simple on ***Pandas***. This is another key Python library used for ML you need to know something about.\n",
    "\n",
    "*DISCLAIMER: This material has to be intended as a pragmatic shortcut to move on, and should NOT stop you from attending a complete Pandas course/tutorial*"
   ]
  },
  {
   "cell_type": "markdown",
   "metadata": {},
   "source": [
    "## Introduction"
   ]
  },
  {
   "cell_type": "markdown",
   "metadata": {},
   "source": [
    "Pandas is very useful as it provides data structures as well as functionalities to ***quickly manage, manipulate and analyze your data set***. It is a very powerful tool for slicing and dicing you data. \n",
    "\n",
    "With the goal of ML in mind, the key in Pandas is to understand the \"*Series*\" and \"*DataFrame*\" data structures."
   ]
  },
  {
   "cell_type": "code",
   "execution_count": 2,
   "metadata": {
    "collapsed": true
   },
   "outputs": [],
   "source": [
    "import numpy\n",
    "import pandas"
   ]
  },
  {
   "cell_type": "markdown",
   "metadata": {},
   "source": [
    "## Pandas Series"
   ]
  },
  {
   "cell_type": "markdown",
   "metadata": {},
   "source": [
    "A series is a 1D array of indexed data. In \"indexing\" lies the major difference w.r.t other data structures you might know. The meaning of \"indexed data\" will be understandable in a while, in one of the next examples."
   ]
  },
  {
   "cell_type": "markdown",
   "metadata": {},
   "source": [
    "First of all, a Pandas series can be created from a list or array - exactly as we can create a Numpy array from a Python list - as follows:"
   ]
  },
  {
   "cell_type": "code",
   "execution_count": 3,
   "metadata": {
    "collapsed": false
   },
   "outputs": [
    {
     "data": {
      "text/plain": [
       "0    0.25\n",
       "1    0.50\n",
       "2    0.75\n",
       "3    1.00\n",
       "dtype: float64"
      ]
     },
     "execution_count": 3,
     "metadata": {},
     "output_type": "execute_result"
    }
   ],
   "source": [
    "L = [0.25, 0.5, 0.75, 1.0]   # creation of a Python list\n",
    "data = pandas.Series(L)      # creation of a pandas Series from a Python list\n",
    "data"
   ]
  },
  {
   "cell_type": "markdown",
   "metadata": {},
   "source": [
    "Of course, you can create a Pandas series as easily also from a Numpy array:"
   ]
  },
  {
   "cell_type": "code",
   "execution_count": 4,
   "metadata": {
    "collapsed": false
   },
   "outputs": [
    {
     "data": {
      "text/plain": [
       "0    0.25\n",
       "1    0.50\n",
       "2    0.75\n",
       "3    1.00\n",
       "dtype: float64"
      ]
     },
     "execution_count": 4,
     "metadata": {},
     "output_type": "execute_result"
    }
   ],
   "source": [
    "A = numpy.array([0.25, 0.5, 0.75, 1.0])  # creation of a Numpy array from a Python list\n",
    "data = pandas.Series(A)                  # creation of a pandas Series from a Numpy array\n",
    "data"
   ]
  },
  {
   "cell_type": "markdown",
   "metadata": {},
   "source": [
    "You already see that its print-out in Jupyter looks different from how a Python list or a Numpy array looked:"
   ]
  },
  {
   "cell_type": "code",
   "execution_count": 5,
   "metadata": {
    "collapsed": false
   },
   "outputs": [
    {
     "data": {
      "text/plain": [
       "[0.25, 0.5, 0.75, 1.0]"
      ]
     },
     "execution_count": 5,
     "metadata": {},
     "output_type": "execute_result"
    }
   ],
   "source": [
    "L"
   ]
  },
  {
   "cell_type": "code",
   "execution_count": 6,
   "metadata": {
    "collapsed": false
   },
   "outputs": [
    {
     "data": {
      "text/plain": [
       "array([ 0.25,  0.5 ,  0.75,  1.  ])"
      ]
     },
     "execution_count": 6,
     "metadata": {},
     "output_type": "execute_result"
    }
   ],
   "source": [
    "A"
   ]
  },
  {
   "cell_type": "code",
   "execution_count": 7,
   "metadata": {
    "collapsed": false
   },
   "outputs": [
    {
     "data": {
      "text/plain": [
       "0    0.25\n",
       "1    0.50\n",
       "2    0.75\n",
       "3    1.00\n",
       "dtype: float64"
      ]
     },
     "execution_count": 7,
     "metadata": {},
     "output_type": "execute_result"
    }
   ],
   "source": [
    "data"
   ]
  },
  {
   "cell_type": "markdown",
   "metadata": {},
   "source": [
    "Here is what we meant by \"indexed data\"."
   ]
  },
  {
   "cell_type": "code",
   "execution_count": 8,
   "metadata": {
    "collapsed": false,
    "scrolled": false
   },
   "outputs": [
    {
     "data": {
      "text/plain": [
       "index_1    0.25\n",
       "index_2    0.50\n",
       "index_3    0.75\n",
       "index_4    1.00\n",
       "dtype: float64"
      ]
     },
     "execution_count": 8,
     "metadata": {},
     "output_type": "execute_result"
    }
   ],
   "source": [
    "A = numpy.array([ 0.25,  0.5 ,  0.75,  1.  ])\n",
    "rownames = ['index_1','index_2','index_3','index_4']\n",
    "myseries = pandas.Series(A, index=rownames)\n",
    "myseries"
   ]
  },
  {
   "cell_type": "markdown",
   "metadata": {},
   "source": [
    "***EXERCISE***: try to give a smaller rownames vector above.."
   ]
  },
  {
   "cell_type": "markdown",
   "metadata": {},
   "source": [
    "So, a pandas series has both a sequence of values and a sequence of indices, which we can access with the `values` and `index` attributes.\n",
    "\n",
    "The `values` are simply a familiar NumPy array..."
   ]
  },
  {
   "cell_type": "code",
   "execution_count": 9,
   "metadata": {
    "collapsed": false
   },
   "outputs": [
    {
     "data": {
      "text/plain": [
       "array([ 0.25,  0.5 ,  0.75,  1.  ])"
      ]
     },
     "execution_count": 9,
     "metadata": {},
     "output_type": "execute_result"
    }
   ],
   "source": [
    "myseries.values"
   ]
  },
  {
   "cell_type": "markdown",
   "metadata": {},
   "source": [
    ".. while the `index` is an array-like object of type `pandas.Index`:"
   ]
  },
  {
   "cell_type": "code",
   "execution_count": 10,
   "metadata": {
    "collapsed": false
   },
   "outputs": [
    {
     "data": {
      "text/plain": [
       "Index([u'index_1', u'index_2', u'index_3', u'index_4'], dtype='object')"
      ]
     },
     "execution_count": 10,
     "metadata": {},
     "output_type": "execute_result"
    }
   ],
   "source": [
    "myseries.index"
   ]
  },
  {
   "cell_type": "markdown",
   "metadata": {},
   "source": [
    "How do I access the data in my pandas series?\n",
    "\n",
    "Firstly, I can access the data in my pandas series like a NumPy array. I.e. data can be accessed by the associated index via the familiar Python square-bracket notation:"
   ]
  },
  {
   "cell_type": "code",
   "execution_count": 11,
   "metadata": {
    "collapsed": false
   },
   "outputs": [
    {
     "data": {
      "text/plain": [
       "0.25"
      ]
     },
     "execution_count": 11,
     "metadata": {},
     "output_type": "execute_result"
    }
   ],
   "source": [
    "myseries[0]"
   ]
  },
  {
   "cell_type": "code",
   "execution_count": 12,
   "metadata": {
    "collapsed": false
   },
   "outputs": [
    {
     "data": {
      "text/plain": [
       "0.5"
      ]
     },
     "execution_count": 12,
     "metadata": {},
     "output_type": "execute_result"
    }
   ],
   "source": [
    "myseries[1]"
   ]
  },
  {
   "cell_type": "markdown",
   "metadata": {},
   "source": [
    "Secondly, you can access the data in my pandas series like a dictionary (more later on this):"
   ]
  },
  {
   "cell_type": "code",
   "execution_count": 13,
   "metadata": {
    "collapsed": false,
    "scrolled": true
   },
   "outputs": [
    {
     "data": {
      "text/plain": [
       "0.25"
      ]
     },
     "execution_count": 13,
     "metadata": {},
     "output_type": "execute_result"
    }
   ],
   "source": [
    "myseries['index_1']"
   ]
  },
  {
   "cell_type": "markdown",
   "metadata": {},
   "source": [
    "### Importance of indexes"
   ]
  },
  {
   "cell_type": "markdown",
   "metadata": {},
   "source": [
    "Pandas series can be seen as ***\"generalized NumPy arrays\"***.\n",
    "\n",
    "From what we have seen so far from its behaviour, it may look like the series object is basically interchangeable with a 1D NumPy array. The essential difference is the presence of the indexes:\n",
    "\n",
    "* the Numpy array has an **implicitly** defined integer index used to access the values\n",
    "* the Pandas series has an **explicitly** defined index associated with the values.\n",
    "\n",
    "This explicit index definition gives the series object plenty of additional capabilities. \n",
    "\n",
    "E.g. the index needs not be an integer, can consist of values of any desired type, and with any content you want. For example, we can use ANY strings as indexes:"
   ]
  },
  {
   "cell_type": "code",
   "execution_count": 15,
   "metadata": {
    "collapsed": false
   },
   "outputs": [
    {
     "data": {
      "text/plain": [
       "0.5"
      ]
     },
     "execution_count": 15,
     "metadata": {},
     "output_type": "execute_result"
    }
   ],
   "source": [
    "data = pandas.Series([0.25, 0.5, 0.75, 1.0], index=['a', 'b', 'c', 'd'])\n",
    "data['b']"
   ]
  },
  {
   "cell_type": "markdown",
   "metadata": {},
   "source": [
    "Of course, we can even use random, non-contiguous, non-sequential numerical indices:"
   ]
  },
  {
   "cell_type": "code",
   "execution_count": 16,
   "metadata": {
    "collapsed": false
   },
   "outputs": [
    {
     "data": {
      "text/plain": [
       "2    0.25\n",
       "5    0.50\n",
       "3    0.75\n",
       "7    1.00\n",
       "dtype: float64"
      ]
     },
     "execution_count": 16,
     "metadata": {},
     "output_type": "execute_result"
    }
   ],
   "source": [
    "data = pandas.Series([0.25, 0.5, 0.75, 1.0], index=[2, 5, 3, 7])\n",
    "data"
   ]
  },
  {
   "cell_type": "markdown",
   "metadata": {},
   "source": [
    "### Use of series as specialized dictionaries"
   ]
  },
  {
   "cell_type": "markdown",
   "metadata": {},
   "source": [
    "The existence of indexes so close to arrays, lets you think of Pandas Series a bit like **a specialization of a Python dictionary**. Let's see the difference.\n",
    "\n",
    "The series-as-dict analogy can be made even more clear by constructing a Series object directly from a Python dictionary:"
   ]
  },
  {
   "cell_type": "code",
   "execution_count": 17,
   "metadata": {
    "collapsed": false
   },
   "outputs": [],
   "source": [
    "phones_dict = {'Daniele': 1111111,              # create a Python dict\n",
    "               'Amanda': 2222222,\n",
    "               'Bice': 3333333,\n",
    "               'Licia': 4444444}\n",
    "phones_series = pandas.Series(phones_dict)      # use the dict to create a series"
   ]
  },
  {
   "cell_type": "code",
   "execution_count": 18,
   "metadata": {
    "collapsed": false
   },
   "outputs": [
    {
     "data": {
      "text/plain": [
       "{'Amanda': 2222222, 'Bice': 3333333, 'Daniele': 1111111, 'Licia': 4444444}"
      ]
     },
     "execution_count": 18,
     "metadata": {},
     "output_type": "execute_result"
    }
   ],
   "source": [
    "phones_dict"
   ]
  },
  {
   "cell_type": "code",
   "execution_count": 19,
   "metadata": {
    "collapsed": false,
    "scrolled": true
   },
   "outputs": [
    {
     "data": {
      "text/plain": [
       "Amanda     2222222\n",
       "Bice       3333333\n",
       "Daniele    1111111\n",
       "Licia      4444444\n",
       "dtype: int64"
      ]
     },
     "execution_count": 19,
     "metadata": {},
     "output_type": "execute_result"
    }
   ],
   "source": [
    "phones_series"
   ]
  },
  {
   "cell_type": "markdown",
   "metadata": {},
   "source": [
    "In this way, by default a series is created, where the series index is drawn from the sorted keys (note the sorted order in the resulting Pandas Series).\n",
    "\n",
    "From here, typical dictionary-style item access can be performed for both:"
   ]
  },
  {
   "cell_type": "code",
   "execution_count": 20,
   "metadata": {
    "collapsed": false
   },
   "outputs": [
    {
     "data": {
      "text/plain": [
       "2222222"
      ]
     },
     "execution_count": 20,
     "metadata": {},
     "output_type": "execute_result"
    }
   ],
   "source": [
    "phones_dict['Amanda']"
   ]
  },
  {
   "cell_type": "code",
   "execution_count": 21,
   "metadata": {
    "collapsed": false
   },
   "outputs": [
    {
     "data": {
      "text/plain": [
       "2222222"
      ]
     },
     "execution_count": 21,
     "metadata": {},
     "output_type": "execute_result"
    }
   ],
   "source": [
    "phones_series['Amanda']"
   ]
  },
  {
   "cell_type": "markdown",
   "metadata": {},
   "source": [
    "Unlike a dictionary, though, the Series also supports array-style operations such as **slicing**:"
   ]
  },
  {
   "cell_type": "code",
   "execution_count": 22,
   "metadata": {
    "collapsed": false
   },
   "outputs": [
    {
     "ename": "TypeError",
     "evalue": "unhashable type",
     "output_type": "error",
     "traceback": [
      "\u001b[0;31m---------------------------------------------------------------------------\u001b[0m",
      "\u001b[0;31mTypeError\u001b[0m                                 Traceback (most recent call last)",
      "\u001b[0;32m<ipython-input-22-0fee5fed818e>\u001b[0m in \u001b[0;36m<module>\u001b[0;34m()\u001b[0m\n\u001b[0;32m----> 1\u001b[0;31m \u001b[0mphones_dict\u001b[0m\u001b[0;34m[\u001b[0m\u001b[0;34m'Bice'\u001b[0m\u001b[0;34m:\u001b[0m\u001b[0;34m'Licia'\u001b[0m\u001b[0;34m]\u001b[0m   \u001b[0;31m# this does not work for dictionaries\u001b[0m\u001b[0;34m\u001b[0m\u001b[0m\n\u001b[0m",
      "\u001b[0;31mTypeError\u001b[0m: unhashable type"
     ]
    }
   ],
   "source": [
    "phones_dict['Bice':'Licia']   # this does not work for dictionaries"
   ]
  },
  {
   "cell_type": "code",
   "execution_count": 23,
   "metadata": {
    "collapsed": false,
    "scrolled": true
   },
   "outputs": [
    {
     "data": {
      "text/plain": [
       "Bice       3333333\n",
       "Daniele    1111111\n",
       "Licia      4444444\n",
       "dtype: int64"
      ]
     },
     "execution_count": 23,
     "metadata": {},
     "output_type": "execute_result"
    }
   ],
   "source": [
    "phones_series['Bice':'Licia']   # it works for Pandas Series"
   ]
  },
  {
   "cell_type": "markdown",
   "metadata": {},
   "source": [
    "This opens up **plenty** of possible indexing and slicing options with very small portions of code.\n",
    "\n",
    "    More: https://pandas.pydata.org/pandas-docs/stable/indexing.html"
   ]
  },
  {
   "cell_type": "markdown",
   "metadata": {},
   "source": [
    "### More on constructing Series objects"
   ]
  },
  {
   "cell_type": "markdown",
   "metadata": {},
   "source": [
    "There are many ways to construct Pandas Series from scratch. All of them are some version of the following\n",
    "\n",
    "    pandas.Series(data, index=index)\n",
    "\n",
    "where `data` can be one of many entities, while `index` is an optional argument.\n",
    "\n",
    "What can `data` be?"
   ]
  },
  {
   "cell_type": "markdown",
   "metadata": {},
   "source": [
    "`data` can be a list or NumPy array, in which case `index` defaults to an integer sequence (starting from 0):"
   ]
  },
  {
   "cell_type": "code",
   "execution_count": null,
   "metadata": {
    "collapsed": false
   },
   "outputs": [],
   "source": [
    "series1 = pandas.Series([2, 4, 6])\n",
    "series1"
   ]
  },
  {
   "cell_type": "markdown",
   "metadata": {},
   "source": [
    "`data` can be a scalar, in which case it is broadcast to fill the specified index:"
   ]
  },
  {
   "cell_type": "code",
   "execution_count": null,
   "metadata": {
    "collapsed": false
   },
   "outputs": [],
   "source": [
    "series2 = pandas.Series(5, index=[100, 200, 300])\n",
    "series2"
   ]
  },
  {
   "cell_type": "markdown",
   "metadata": {},
   "source": [
    "`data` can be a dictionary, in which case `index` defaults to the sorted dictionary keys \n",
    "\n",
    "(NOTE: it will be sorted by dict keys, not by index elements!)"
   ]
  },
  {
   "cell_type": "code",
   "execution_count": null,
   "metadata": {
    "collapsed": false
   },
   "outputs": [],
   "source": [
    "series3 = pandas.Series({2:'c', 1:'a', 3:'b'})\n",
    "series3"
   ]
  },
  {
   "cell_type": "markdown",
   "metadata": {},
   "source": [
    "In each case mentioned above, the `index` can be explicitly set as you want, if a different result is preferred. E.g. you can explicitly identify the particular indices you want to be included (these and only these) from the dictionary."
   ]
  },
  {
   "cell_type": "code",
   "execution_count": null,
   "metadata": {
    "collapsed": false
   },
   "outputs": [],
   "source": [
    "series4 = pandas.Series({2:'c', 1:'a', 3:'b'}, index=[2, 3])\n",
    "series4"
   ]
  },
  {
   "cell_type": "markdown",
   "metadata": {},
   "source": [
    "_NOTE: much more can be said on Panda Series, but we stop here.. More on Pandas documentation_"
   ]
  },
  {
   "cell_type": "markdown",
   "metadata": {},
   "source": [
    "## Pandas DataFrame"
   ]
  },
  {
   "cell_type": "markdown",
   "metadata": {},
   "source": [
    "The next fundamental structure in Pandas is the **DataFrame** (or \"data frame\", or \"dataframe\").\n",
    "\n",
    "In general, it is a nD array where the rows and the columns can be (and usually are) labeled.\n",
    "\n",
    "Like the Pandas Series, the Pandas DataFrame can be thought of either as a generalization of a NumPy array, or as a specialization of a Python dictionary. "
   ]
  },
  {
   "cell_type": "markdown",
   "metadata": {},
   "source": [
    "### 1. Pandas DataFrame as a generalised Numpy array"
   ]
  },
  {
   "cell_type": "markdown",
   "metadata": {},
   "source": [
    "Best way to see it is as follows:\n",
    "\n",
    "If a Pandas Series is an analog of a 1D array but with flexible indices, **a Pandas DataFrame is an analog of a 2D array with both flexible row indices and flexible column names**.\n",
    "\n",
    "In other words, just as you might think of a 2D array as an ordered sequence of aligned 1D columns, you can think of **a DataFrame as a sequence of aligned Series objects in Pandas**. Here, by “aligned” we mean that they share the same index."
   ]
  },
  {
   "cell_type": "markdown",
   "metadata": {},
   "source": [
    "Let's see some examples.\n",
    "\n",
    "Let's start from the same phones dictionary example as before:\n",
    "   1. contruct a Pandas Series from a dictionary (same as above)\n",
    "   1. construct another Pandas Series with additional info\n",
    "   1. build a sequence of these (aligned, they share the same index) Series objects"
   ]
  },
  {
   "cell_type": "markdown",
   "metadata": {},
   "source": [
    "This is part 1."
   ]
  },
  {
   "cell_type": "code",
   "execution_count": 24,
   "metadata": {
    "collapsed": false
   },
   "outputs": [
    {
     "data": {
      "text/plain": [
       "Amanda     2222222\n",
       "Bice       3333333\n",
       "Daniele    1111111\n",
       "Licia      4444444\n",
       "dtype: int64"
      ]
     },
     "execution_count": 24,
     "metadata": {},
     "output_type": "execute_result"
    }
   ],
   "source": [
    "phones_dict = {'Daniele': 1111111,                # create a dict\n",
    "                   'Amanda': 2222222,\n",
    "                   'Bice': 3333333,\n",
    "                   'Licia': 4444444}\n",
    "phones_series = pandas.Series(phones_dict)        # use the dict to create a series\n",
    "phones_series"
   ]
  },
  {
   "cell_type": "markdown",
   "metadata": {},
   "source": [
    "This is part 2."
   ]
  },
  {
   "cell_type": "code",
   "execution_count": 25,
   "metadata": {
    "collapsed": false
   },
   "outputs": [
    {
     "data": {
      "text/plain": [
       "Amanda     Via Dromedario 2\n",
       "Bice       Via Dromedario 3\n",
       "Daniele    Via Dromedario 1\n",
       "Licia      Via Dromedario 4\n",
       "dtype: object"
      ]
     },
     "execution_count": 25,
     "metadata": {},
     "output_type": "execute_result"
    }
   ],
   "source": [
    "address_dict = {'Daniele': \"Via Dromedario 1\",                # create a dict\n",
    "                   'Amanda': \"Via Dromedario 2\",\n",
    "                   'Bice': \"Via Dromedario 3\",\n",
    "                   'Licia': \"Via Dromedario 4\"}\n",
    "address_series = pandas.Series(address_dict)        # use the dict to create a series\n",
    "address_series"
   ]
  },
  {
   "cell_type": "markdown",
   "metadata": {},
   "source": [
    "This is part 3. Now you can use a dictionary structure to construct a single 2D object (Pandas DataFrame) containing all this information:"
   ]
  },
  {
   "cell_type": "code",
   "execution_count": 26,
   "metadata": {
    "collapsed": false
   },
   "outputs": [],
   "source": [
    "my_address_book = pandas.DataFrame({'PHONE': phones_series,\n",
    "                                    'ADDRESS': address_series})"
   ]
  },
  {
   "cell_type": "markdown",
   "metadata": {},
   "source": [
    "And print it out. Be prepared for a nice surprise.."
   ]
  },
  {
   "cell_type": "code",
   "execution_count": 27,
   "metadata": {
    "collapsed": false
   },
   "outputs": [
    {
     "data": {
      "text/html": [
       "<div>\n",
       "<table border=\"1\" class=\"dataframe\">\n",
       "  <thead>\n",
       "    <tr style=\"text-align: right;\">\n",
       "      <th></th>\n",
       "      <th>ADDRESS</th>\n",
       "      <th>PHONE</th>\n",
       "    </tr>\n",
       "  </thead>\n",
       "  <tbody>\n",
       "    <tr>\n",
       "      <th>Amanda</th>\n",
       "      <td>Via Dromedario 2</td>\n",
       "      <td>2222222</td>\n",
       "    </tr>\n",
       "    <tr>\n",
       "      <th>Bice</th>\n",
       "      <td>Via Dromedario 3</td>\n",
       "      <td>3333333</td>\n",
       "    </tr>\n",
       "    <tr>\n",
       "      <th>Daniele</th>\n",
       "      <td>Via Dromedario 1</td>\n",
       "      <td>1111111</td>\n",
       "    </tr>\n",
       "    <tr>\n",
       "      <th>Licia</th>\n",
       "      <td>Via Dromedario 4</td>\n",
       "      <td>4444444</td>\n",
       "    </tr>\n",
       "  </tbody>\n",
       "</table>\n",
       "</div>"
      ],
      "text/plain": [
       "                  ADDRESS    PHONE\n",
       "Amanda   Via Dromedario 2  2222222\n",
       "Bice     Via Dromedario 3  3333333\n",
       "Daniele  Via Dromedario 1  1111111\n",
       "Licia    Via Dromedario 4  4444444"
      ]
     },
     "execution_count": 27,
     "metadata": {},
     "output_type": "execute_result"
    }
   ],
   "source": [
    "my_address_book"
   ]
  },
  {
   "cell_type": "markdown",
   "metadata": {},
   "source": [
    "NOTE: the printout is extremely easy to read, and organised as you meant it to be. Thanks to Jupyter and Pandas!"
   ]
  },
  {
   "cell_type": "markdown",
   "metadata": {},
   "source": [
    "Like the Series object, the DataFrame object has an `index` attribute which gives access to the index labels:"
   ]
  },
  {
   "cell_type": "code",
   "execution_count": 28,
   "metadata": {
    "collapsed": false
   },
   "outputs": [
    {
     "data": {
      "text/plain": [
       "Index([u'Amanda', u'Bice', u'Daniele', u'Licia'], dtype='object')"
      ]
     },
     "execution_count": 28,
     "metadata": {},
     "output_type": "execute_result"
    }
   ],
   "source": [
    "my_address_book.index"
   ]
  },
  {
   "cell_type": "markdown",
   "metadata": {},
   "source": [
    "And a `values` attribute too:"
   ]
  },
  {
   "cell_type": "code",
   "execution_count": 29,
   "metadata": {
    "collapsed": false
   },
   "outputs": [
    {
     "data": {
      "text/plain": [
       "array([['Via Dromedario 2', 2222222],\n",
       "       ['Via Dromedario 3', 3333333],\n",
       "       ['Via Dromedario 1', 1111111],\n",
       "       ['Via Dromedario 4', 4444444]], dtype=object)"
      ]
     },
     "execution_count": 29,
     "metadata": {},
     "output_type": "execute_result"
    }
   ],
   "source": [
    "my_address_book.values"
   ]
  },
  {
   "cell_type": "markdown",
   "metadata": {},
   "source": [
    "And many more. E.g. you can use the `column` attribute, which is an `Index` object holding the column labels:"
   ]
  },
  {
   "cell_type": "code",
   "execution_count": 30,
   "metadata": {
    "collapsed": false
   },
   "outputs": [
    {
     "data": {
      "text/plain": [
       "Index([u'ADDRESS', u'PHONE'], dtype='object')"
      ]
     },
     "execution_count": 30,
     "metadata": {},
     "output_type": "execute_result"
    }
   ],
   "source": [
    "my_address_book.columns"
   ]
  },
  {
   "cell_type": "markdown",
   "metadata": {},
   "source": [
    "E.g. you might want to do something only on the first column:"
   ]
  },
  {
   "cell_type": "code",
   "execution_count": 31,
   "metadata": {
    "collapsed": false
   },
   "outputs": [
    {
     "data": {
      "text/plain": [
       "'ADDRESS'"
      ]
     },
     "execution_count": 31,
     "metadata": {},
     "output_type": "execute_result"
    }
   ],
   "source": [
    "my_address_book.columns[0]"
   ]
  },
  {
   "cell_type": "markdown",
   "metadata": {},
   "source": [
    "Or the `all` attribute, which shows everything in one go, both DataFrame labels and DataFrame full content:"
   ]
  },
  {
   "cell_type": "code",
   "execution_count": 32,
   "metadata": {
    "collapsed": false
   },
   "outputs": [
    {
     "data": {
      "text/plain": [
       "<bound method DataFrame.all of                   ADDRESS    PHONE\n",
       "Amanda   Via Dromedario 2  2222222\n",
       "Bice     Via Dromedario 3  3333333\n",
       "Daniele  Via Dromedario 1  1111111\n",
       "Licia    Via Dromedario 4  4444444>"
      ]
     },
     "execution_count": 32,
     "metadata": {},
     "output_type": "execute_result"
    }
   ],
   "source": [
    "my_address_book.all"
   ]
  },
  {
   "cell_type": "markdown",
   "metadata": {},
   "source": [
    "In this example, we saw that the Pandas DataFrame can be thought of as a generalization of a 2D NumPy array, where both the rows and columns have a generalized index for accessing the data."
   ]
  },
  {
   "cell_type": "markdown",
   "metadata": {},
   "source": [
    "### 2. Pandas DataFrame as a specialised dictionary"
   ]
  },
  {
   "cell_type": "markdown",
   "metadata": {},
   "source": [
    "Similarly, we can think of a Pandas DataFrame as a specialisation of a dictionary.\n",
    "\n",
    "Where a dictionary maps a key to a value, a DataFrame maps a column name to a Series of column data. \n",
    "\n",
    "E.g. see the example below. Asking 'ADDRESS' attribute returns the Pandas Series object containing all the addresses we have in the total addressbook DataFrame, with the index information (so we know WHO lives WHERE)."
   ]
  },
  {
   "cell_type": "code",
   "execution_count": null,
   "metadata": {
    "collapsed": false
   },
   "outputs": [],
   "source": [
    "my_address_book['ADDRESS']"
   ]
  },
  {
   "cell_type": "markdown",
   "metadata": {},
   "source": [
    "Same for the 'PHONE' attribute, of course - as for any other attribute that might exist:"
   ]
  },
  {
   "cell_type": "code",
   "execution_count": null,
   "metadata": {
    "collapsed": false
   },
   "outputs": [],
   "source": [
    "my_address_book['PHONE']"
   ]
  },
  {
   "cell_type": "markdown",
   "metadata": {},
   "source": [
    "## <font color='red'>Exercise</font>"
   ]
  },
  {
   "cell_type": "markdown",
   "metadata": {},
   "source": [
    "<div class=\"alert alert-block alert-info\">\n",
    "Are you able to build a single, one-shot query to get Amanda's phone number?\n",
    "</div>"
   ]
  },
  {
   "cell_type": "markdown",
   "metadata": {},
   "source": [
    "NOTE: if you think of a real addressbook, this is basically the logical query you would do, e.g. \"let me open by addressbook and look for Amanda's phone number\" or \"Daniele's address\" or similar. Usually you indeed do NOT want ALL information you have about one person when looking into the addressbook, do you?\n",
    "\n",
    "_Hint_: build a query piece after piece, then merge and simplify, and get to the best piece of code."
   ]
  },
  {
   "cell_type": "markdown",
   "metadata": {},
   "source": [
    "## <font color='red'>Solution and discussion</font>"
   ]
  },
  {
   "cell_type": "markdown",
   "metadata": {},
   "source": [
    "I want a phone number. I am suggested to proceed step by step. OK. Let me get all phone numbers, first."
   ]
  },
  {
   "cell_type": "code",
   "execution_count": null,
   "metadata": {
    "collapsed": false
   },
   "outputs": [],
   "source": [
    "my_address_book['PHONE']"
   ]
  },
  {
   "cell_type": "markdown",
   "metadata": {},
   "source": [
    "OK. What I got above is a Pandas Series. Let me call it with something like `tmp` in the name, as this will not be the final step. I know how to get one element of my `tmp` Pandas Series (check out examples before), so let me try:"
   ]
  },
  {
   "cell_type": "code",
   "execution_count": null,
   "metadata": {
    "collapsed": false
   },
   "outputs": [],
   "source": [
    "tmp_series = my_address_book['PHONE']\n",
    "tmp_series['Amanda']"
   ]
  },
  {
   "cell_type": "markdown",
   "metadata": {},
   "source": [
    "Cool! I got it! Now, look at the structure, digest it, and... get rid of useless intermediate steps, and simplify (= make it compact):"
   ]
  },
  {
   "cell_type": "code",
   "execution_count": null,
   "metadata": {
    "collapsed": false
   },
   "outputs": [],
   "source": [
    "my_address_book['PHONE']['Amanda']"
   ]
  },
  {
   "cell_type": "markdown",
   "metadata": {},
   "source": [
    "Well done!"
   ]
  },
  {
   "cell_type": "markdown",
   "metadata": {},
   "source": [
    "NOTE: there is large potential confusion here - and indeed everyone does a lot of mistakes when trying out DataFrame while thinking at arrays, and viceversa.\n",
    "\n",
    "   * in a 2D NumPy array, e.g. `numpy_array[0]` below, you will get returned the first row (element) of the array"
   ]
  },
  {
   "cell_type": "code",
   "execution_count": null,
   "metadata": {
    "collapsed": false
   },
   "outputs": [],
   "source": [
    "numpy_array = numpy.array([1,2,3])\n",
    "numpy_array[0]"
   ]
  },
  {
   "cell_type": "markdown",
   "metadata": {},
   "source": [
    "   * in a DataFrame, e.g. my_address_book['ADDRESS'] below, you will get returned the first column"
   ]
  },
  {
   "cell_type": "code",
   "execution_count": null,
   "metadata": {
    "collapsed": false
   },
   "outputs": [],
   "source": [
    "#my_address_book[0]   # this gives an error, of course\n",
    "my_address_book['ADDRESS']"
   ]
  },
  {
   "cell_type": "markdown",
   "metadata": {},
   "source": [
    "Because of this possible confusione, it is probably way better to think about Pandas DataFrames as generalized dictionaries rather than generalized arrays - though both ways of thinking of it can be useful."
   ]
  },
  {
   "cell_type": "markdown",
   "metadata": {},
   "source": [
    "## Constructing DataFrame objects"
   ]
  },
  {
   "cell_type": "markdown",
   "metadata": {},
   "source": [
    "A Pandas DataFrame can be constructed in a variety of ways. \n",
    "\n",
    "   1. From a single Series object\n",
    "   1. From a list of dicts\n",
    "   1. From a dictionary of Series objects\n",
    "   1. From a two-dimensional NumPy array\n",
    "\n",
    ".. and more.. but we stop here. Let's see some examples for each."
   ]
  },
  {
   "cell_type": "markdown",
   "metadata": {},
   "source": [
    "### 1. From a single Series object"
   ]
  },
  {
   "cell_type": "markdown",
   "metadata": {},
   "source": [
    "A Pandas DataFrame is a collection of Pandas series, and a single-column Pandas DataFrame can obviously be constructed from a single Pandas Series:"
   ]
  },
  {
   "cell_type": "code",
   "execution_count": null,
   "metadata": {
    "collapsed": false
   },
   "outputs": [],
   "source": [
    "phones_series"
   ]
  },
  {
   "cell_type": "code",
   "execution_count": null,
   "metadata": {
    "collapsed": false
   },
   "outputs": [],
   "source": [
    "DF1 = pandas.DataFrame(phones_series, columns=['ecco i numeri di telefono'])\n",
    "DF1"
   ]
  },
  {
   "cell_type": "markdown",
   "metadata": {},
   "source": [
    "### 2. From a list of dicts"
   ]
  },
  {
   "cell_type": "markdown",
   "metadata": {},
   "source": [
    "Any list of dictionaries can be made into a Pandas DataFrame. We will use a simple list comprehension to create some data in this example:"
   ]
  },
  {
   "cell_type": "code",
   "execution_count": null,
   "metadata": {
    "collapsed": false,
    "scrolled": true
   },
   "outputs": [],
   "source": [
    "list_of_dicts = [{'a': i, 'b': 2 * i}\n",
    "        for i in range(4)]\n",
    "list_of_dicts"
   ]
  },
  {
   "cell_type": "code",
   "execution_count": null,
   "metadata": {
    "collapsed": false
   },
   "outputs": [],
   "source": [
    "DF2 = pandas.DataFrame(list_of_dicts)\n",
    "DF2"
   ]
  },
  {
   "cell_type": "markdown",
   "metadata": {},
   "source": [
    "### 3. From a dictionary of Series objects"
   ]
  },
  {
   "cell_type": "markdown",
   "metadata": {},
   "source": [
    "We saw this in the addressbook example above: a Pandas DataFrame can be constructed from a dictionary of Series objects."
   ]
  },
  {
   "cell_type": "code",
   "execution_count": null,
   "metadata": {
    "collapsed": false
   },
   "outputs": [],
   "source": [
    "my_address_book = pandas.DataFrame({'PHONE': phones_series,\n",
    "                                    'ADDRESS': address_series})\n",
    "my_address_book"
   ]
  },
  {
   "cell_type": "markdown",
   "metadata": {},
   "source": [
    "### 4. From a 2D NumPy array"
   ]
  },
  {
   "cell_type": "markdown",
   "metadata": {},
   "source": [
    "Given a 2D array of data, we can create a Pandas DataFrame with any specified column and index names. If left out, an integer index will be used for each."
   ]
  },
  {
   "cell_type": "code",
   "execution_count": null,
   "metadata": {
    "collapsed": false
   },
   "outputs": [],
   "source": [
    "DF3 = pandas.DataFrame(numpy.random.rand(3, 2),\n",
    "                       columns=['first column', 'second column'],\n",
    "                       index=['first row', 'second row', 'third row'])\n",
    "DF3"
   ]
  },
  {
   "cell_type": "markdown",
   "metadata": {},
   "source": [
    "## Pandas Index"
   ]
  },
  {
   "cell_type": "markdown",
   "metadata": {},
   "source": [
    "We said that the Pandas Series and pandas DataFrame contain an explicit indec which lets you reference and modify data. \n",
    "\n",
    "This index is a `Index` object, and it is an interesting structure in itself. It can be thought of either:\n",
    "   * as an \"immutable array\"\n",
    "   * as an \"ordered set\"\n",
    "   \n",
    "Those views have some interesting consequences in the operations available on Index objects.\n",
    "\n",
    "As a simple example, let's construct an index from a list of integers:"
   ]
  },
  {
   "cell_type": "code",
   "execution_count": null,
   "metadata": {
    "collapsed": false
   },
   "outputs": [],
   "source": [
    "my_index = pandas.Index([1, 2, 3, 4, 5])\n",
    "my_index"
   ]
  },
  {
   "cell_type": "markdown",
   "metadata": {},
   "source": [
    "### Index as Immutable Array"
   ]
  },
  {
   "cell_type": "markdown",
   "metadata": {},
   "source": [
    "The index in many ways operates like an array. E.g., we can use standard Python indexing notation to retrieve values or slices:"
   ]
  },
  {
   "cell_type": "code",
   "execution_count": null,
   "metadata": {
    "collapsed": false
   },
   "outputs": [],
   "source": [
    "my_index[1]"
   ]
  },
  {
   "cell_type": "code",
   "execution_count": null,
   "metadata": {
    "collapsed": false
   },
   "outputs": [],
   "source": [
    "my_index[2:]"
   ]
  },
  {
   "cell_type": "code",
   "execution_count": null,
   "metadata": {
    "collapsed": false
   },
   "outputs": [],
   "source": [
    "my_index[:2]"
   ]
  },
  {
   "cell_type": "code",
   "execution_count": null,
   "metadata": {
    "collapsed": false
   },
   "outputs": [],
   "source": [
    "my_index[::2]"
   ]
  },
  {
   "cell_type": "markdown",
   "metadata": {},
   "source": [
    "Index objects also have many of the attributes familiar from NumPy arrays:"
   ]
  },
  {
   "cell_type": "code",
   "execution_count": null,
   "metadata": {
    "collapsed": false
   },
   "outputs": [],
   "source": [
    "print(my_index.size)\n",
    "print(my_index.shape)\n",
    "print(my_index.ndim)\n",
    "print(my_index.dtype)"
   ]
  },
  {
   "cell_type": "markdown",
   "metadata": {},
   "source": [
    "One difference between Index objects and NumPy arrays is that indices are immutable: that is, they cannot be modified via the normal means:"
   ]
  },
  {
   "cell_type": "code",
   "execution_count": null,
   "metadata": {
    "collapsed": false
   },
   "outputs": [],
   "source": [
    "my_index[1]"
   ]
  },
  {
   "cell_type": "code",
   "execution_count": null,
   "metadata": {
    "collapsed": false
   },
   "outputs": [],
   "source": [
    "my_index[1] = 0     # error"
   ]
  },
  {
   "cell_type": "markdown",
   "metadata": {},
   "source": [
    "Which is actually a good thing. Immutability is not there to prevent you from freedom, it is there to avoid you terrible mistakes. This immutability makes it safer to share indices between multiple dataframes and arrays, without the potential for nasty side-effects from unwanted, mistakenly done index modification."
   ]
  },
  {
   "cell_type": "markdown",
   "metadata": {},
   "source": [
    "### Index as Ordered set"
   ]
  },
  {
   "cell_type": "markdown",
   "metadata": {},
   "source": [
    "Pandas objects are designed to facilitate operations such as joins across datasets (additional info: this is facilitated in Python with Pandas, as Python has a built-in `set` object and the Pandas Index object follows many of the conventions of this built-in `set` object, so that unions, intersections, differences, and other combinations can be computed in a familiar way)."
   ]
  },
  {
   "cell_type": "code",
   "execution_count": null,
   "metadata": {
    "collapsed": true
   },
   "outputs": [],
   "source": [
    "indA = pandas.Index([1, 3, 5, 7, 9, 100, 200])\n",
    "indB = pandas.Index([2, 4, 6, 8, 10, 100, 200])"
   ]
  },
  {
   "cell_type": "code",
   "execution_count": null,
   "metadata": {
    "collapsed": false
   },
   "outputs": [],
   "source": [
    "indA & indB  # intersection"
   ]
  },
  {
   "cell_type": "code",
   "execution_count": null,
   "metadata": {
    "collapsed": false
   },
   "outputs": [],
   "source": [
    "indA | indB  # union"
   ]
  },
  {
   "cell_type": "code",
   "execution_count": null,
   "metadata": {
    "collapsed": false
   },
   "outputs": [],
   "source": [
    "indA - indB  # difference"
   ]
  },
  {
   "cell_type": "markdown",
   "metadata": {},
   "source": [
    "These operations may also be accessed via object methods, e.g.:"
   ]
  },
  {
   "cell_type": "code",
   "execution_count": null,
   "metadata": {
    "collapsed": false
   },
   "outputs": [],
   "source": [
    "indA.intersection(indB)"
   ]
  },
  {
   "cell_type": "markdown",
   "metadata": {
    "collapsed": true
   },
   "source": [
    "## Done. That's all for the Pandas 101 crash course."
   ]
  },
  {
   "cell_type": "markdown",
   "metadata": {
    "collapsed": true
   },
   "source": [
    "The appetizer is over. Time for you to move to the main course, i.e. a good Pandas course and/or tutorial."
   ]
  },
  {
   "cell_type": "markdown",
   "metadata": {},
   "source": [
    "## What we have learnt"
   ]
  },
  {
   "cell_type": "markdown",
   "metadata": {},
   "source": [
    "Basics of Series, DataFrame, Index objects in Pandas - which form the foundation of data-oriented computing with Pandas. \n",
    "\n",
    "Very useful for data manipulation: just as understanding the effective use of NumPy arrays is fundamental to effective numerical computing in Python, understanding the effective use of Pandas structures is fundamental to the **data munging** required for data science in Python.\n",
    "\n",
    "* \"data munging\" = the process of manual data cleansing prior to analysis"
   ]
  },
  {
   "cell_type": "markdown",
   "metadata": {},
   "source": [
    "## Reading material"
   ]
  },
  {
   "cell_type": "markdown",
   "metadata": {},
   "source": [
    "* Pandas documentation page (user guide), http://pandas.pydata.org/pandas-docs/stable/\n",
    "* Pandas cookbook (many examples), http://pandas.pydata.org/pandas-docs/stable/cookbook.html\n",
    "* Pandas API Reference, http://pandas.pydata.org/pandas-docs/stable/api.html"
   ]
  }
 ],
 "metadata": {
  "kernelspec": {
   "display_name": "Python 2",
   "language": "python",
   "name": "python2"
  },
  "language_info": {
   "codemirror_mode": {
    "name": "ipython",
    "version": 2
   },
   "file_extension": ".py",
   "mimetype": "text/x-python",
   "name": "python",
   "nbconvert_exporter": "python",
   "pygments_lexer": "ipython2",
   "version": "2.7.13"
  }
 },
 "nbformat": 4,
 "nbformat_minor": 2
}
